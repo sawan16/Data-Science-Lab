{
 "cells": [
  {
   "cell_type": "markdown",
   "metadata": {},
   "source": [
    "<h1> <font size='20px' color='green'>Itroduction</font> to <font size='20px' color='red'> Image Preprocessing </font> </h1>\n",
    "<br />\n",
    "<h3> <font size='10px' color='orange'>scikit Image</font> </h3>\n",
    "<br />\n",
    "<h3> <font size='10px' color='#660066'>Open CV</font> </h3>"
   ]
  },
  {
   "cell_type": "code",
   "execution_count": null,
   "metadata": {
    "collapsed": true
   },
   "outputs": [],
   "source": [
    "import skimage as si\n",
    "from skimage import io\n",
    "from matplotlib import pyplot as plt\n",
    "import numpy as np\n",
    "from skimage import transform as tf"
   ]
  },
  {
   "cell_type": "code",
   "execution_count": null,
   "metadata": {},
   "outputs": [],
   "source": [
    "# Image................\n",
    "\n",
    "i1 = np.zeros([256,256])\n",
    "\n",
    "io.imshow(i1)\n",
    "\n",
    "plt.show()\n",
    "\n",
    "for i in range(5,250):\n",
    "    for j in range(5,250):\n",
    "        i1[i,j] = 1;\n",
    "\n",
    "io.imshow(i1)\n",
    "\n",
    "plt.show()"
   ]
  },
  {
   "cell_type": "code",
   "execution_count": null,
   "metadata": {
    "collapsed": true
   },
   "outputs": [],
   "source": [
    "# An example -----"
   ]
  },
  {
   "cell_type": "code",
   "execution_count": null,
   "metadata": {},
   "outputs": [],
   "source": [
    "img1 = io.imread('img02.jpg')\n",
    "io.imshow(img1)\n",
    "print(\"Image Shape:\",img1.shape)\n",
    "plt.show()"
   ]
  },
  {
   "cell_type": "code",
   "execution_count": null,
   "metadata": {},
   "outputs": [],
   "source": [
    "for i in range(195,350):\n",
    "    for j in range(195,290):\n",
    "        img1[i,j,1]=0\n",
    "        img1[i,j,0]=0\n",
    "        \n",
    "io.imshow(img1)\n",
    "\n",
    "plt.show()"
   ]
  },
  {
   "cell_type": "markdown",
   "metadata": {
    "collapsed": true
   },
   "source": [
    "# <font color='red'> ------------------Smoothening------------------</font>"
   ]
  },
  {
   "cell_type": "code",
   "execution_count": null,
   "metadata": {},
   "outputs": [],
   "source": [
    "mask = [[0,1,0],\n",
    "        [1,4,1],\n",
    "        [0,1,0]   \n",
    "]\n",
    "\n",
    "mask1 = np.array(mask)\n",
    "\n",
    "mask1"
   ]
  },
  {
   "cell_type": "code",
   "execution_count": null,
   "metadata": {},
   "outputs": [],
   "source": [
    "\n",
    "\n",
    "img3 = io.imread('sharp.png')\n",
    "io.imshow(img3)\n",
    "print(img3.shape)\n",
    "plt.show()\n",
    "\n",
    "x,y=300,300\n",
    "img3 = si.color.rgb2gray(img3)\n",
    "p = tf.resize(img3,(x,y))\n",
    "print(\"Image Shape:\",p.shape)\n",
    "io.imshow(p)\n",
    "plt.show()\n",
    "\n",
    "p_mean = np.empty((x,y))\n",
    "\n",
    "for i in range(x-1): # why x-1 and y-1\n",
    "    for j in range(y-1):\n",
    "        p_mean[i,j]= np.mean([p[i-1,j-1],p[i-1,j],p[i-1,j+1],p[i,j-1],p[i,j],p[i,j+1],p[i+1,j-1],p[i+1,j],p[i+1,j+1]])\n",
    "\n",
    "io.imshow(p_mean)\n",
    "plt.show()"
   ]
  },
  {
   "cell_type": "code",
   "execution_count": null,
   "metadata": {},
   "outputs": [],
   "source": [
    "mbd3 = io.imread('e1.png')\n",
    "\n",
    "io.imshow(mbd3)\n",
    "\n",
    "plt.show()\n",
    "\n",
    "mbd3.shape"
   ]
  },
  {
   "cell_type": "code",
   "execution_count": null,
   "metadata": {},
   "outputs": [],
   "source": [
    "from skimage.filters.rank import median\n",
    "from skimage.morphology import disk\n",
    "\n",
    "output = median(mbd3,disk(1)) # print disk............and check\n",
    "\n",
    "fig, axes = plt.subplots(nrows=1, ncols=2, figsize=(10, 5),\n",
    "                         sharex=True, sharey=True)\n",
    "ax = axes.ravel()\n",
    "ax[0].imshow(mbd3,cmap=plt.cm.gray)\n",
    "ax[1].imshow(output,cmap=plt.cm.gray)    \n",
    "\n",
    "plt.tight_layout()\n",
    "plt.show()"
   ]
  },
  {
   "cell_type": "markdown",
   "metadata": {
    "collapsed": true
   },
   "source": [
    "# <font color='green'>-----------Image sharpening----------</font>"
   ]
  },
  {
   "cell_type": "code",
   "execution_count": null,
   "metadata": {},
   "outputs": [],
   "source": [
    "brain = io.imread('blur.jpg')\n",
    "\n",
    "io.imshow(brain)\n",
    "\n",
    "plt.show()\n",
    "\n",
    "brain = si.color.rgb2gray(brain )\n",
    "\n",
    "brain.shape"
   ]
  },
  {
   "cell_type": "code",
   "execution_count": null,
   "metadata": {},
   "outputs": [],
   "source": [
    "\n",
    "p_laplac = si.filters.laplace(brain,3)\n",
    "\n",
    "p_added_laplac = p_laplac + brain\n",
    "\n",
    "io.imshow(abs(p_laplac),cmap=plt.cm.gray)\n",
    "plt.show()\n"
   ]
  },
  {
   "cell_type": "code",
   "execution_count": null,
   "metadata": {},
   "outputs": [],
   "source": [
    "io.imshow(abs(p_added_laplac),cmap=plt.cm.gray)\n",
    "plt.show()"
   ]
  },
  {
   "cell_type": "markdown",
   "metadata": {
    "collapsed": true
   },
   "source": [
    "# <font color='yellow' >-----------------Dilation-------------- </font>"
   ]
  },
  {
   "cell_type": "code",
   "execution_count": null,
   "metadata": {},
   "outputs": [],
   "source": [
    "from skimage.morphology import binary_dilation\n",
    "\n",
    "img4 = io.imread('panda2.png')\n",
    "img4 = si.color.rgb2gray(img4)\n",
    "io.imshow(img4)\n",
    "\n",
    "plt.show()\n",
    "\n",
    "morph = [[0,0,0],[0,0,0],[0,0,0]]\n",
    "\n",
    "dilated = binary_dilation(img4,disk(2)) #use morph also--------------------\n",
    "\n",
    "fig, axes = plt.subplots(nrows=1, ncols=2, figsize=(10, 5),\n",
    "                         sharex=True, sharey=True)\n",
    "ax = axes.ravel()\n",
    "ax[0].imshow(img4,cmap=plt.cm.gray)\n",
    "ax[1].imshow(dilated,cmap=plt.cm.gray)    \n",
    "\n",
    "plt.tight_layout()\n",
    "plt.show()"
   ]
  },
  {
   "cell_type": "markdown",
   "metadata": {},
   "source": [
    "# <font color='blue'> -----------------Erosion ----------------</font>"
   ]
  },
  {
   "cell_type": "code",
   "execution_count": null,
   "metadata": {},
   "outputs": [],
   "source": [
    "\n",
    "\n",
    "from skimage.morphology import erosion\n",
    "\n",
    "img5 = io.imread('panda2.png')\n",
    "img5 = si.color.rgb2gray(img5)\n",
    "io.imshow(img5)\n",
    "\n",
    "\n",
    "plt.show()\n",
    "\n",
    "morph = [[1,1,1],[1,1,1],[1,1,1]]\n",
    "\n",
    "eroded = erosion(img5, morph) # use disk also---------------\n",
    "\n",
    "fig, axes = plt.subplots(nrows=1, ncols=2, figsize=(10, 5),\n",
    "                         sharex=True, sharey=True)\n",
    "ax = axes.ravel()\n",
    "ax[0].imshow(img5,cmap=plt.cm.gray)\n",
    "ax[1].imshow(eroded ,cmap=plt.cm.gray)    \n",
    "\n",
    "plt.tight_layout()\n",
    "plt.show()"
   ]
  },
  {
   "cell_type": "code",
   "execution_count": null,
   "metadata": {
    "collapsed": true
   },
   "outputs": [],
   "source": [
    "x,y = img5.shape\n",
    "new = np.zeros([x,y])\n",
    "for i in range(x):\n",
    "    for j in range(y):\n",
    "        if img5[i,j] == 0:\n",
    "            new[i,j] = 1        \n",
    "\n"
   ]
  },
  {
   "cell_type": "code",
   "execution_count": null,
   "metadata": {},
   "outputs": [],
   "source": [
    "io.imshow(new)\n",
    "plt.show()"
   ]
  },
  {
   "cell_type": "code",
   "execution_count": null,
   "metadata": {},
   "outputs": [],
   "source": [
    "\n",
    "\n",
    "morph = [[1,1,1],[1,1,1],[1,1,1]]\n",
    "\n",
    "eroded = erosion(new, morph) # use disk also---------------\n",
    "\n",
    "fig, axes = plt.subplots(nrows=1, ncols=2, figsize=(10, 5),\n",
    "                         sharex=True, sharey=True)\n",
    "ax = axes.ravel()\n",
    "ax[0].imshow(new,cmap=plt.cm.gray)\n",
    "ax[1].imshow(eroded ,cmap=plt.cm.gray)    \n",
    "\n",
    "plt.tight_layout()\n",
    "plt.show()"
   ]
  },
  {
   "cell_type": "markdown",
   "metadata": {
    "collapsed": true
   },
   "source": [
    "# <font color='green'>------------- Erosion by reversal--------------</font>"
   ]
  },
  {
   "cell_type": "code",
   "execution_count": null,
   "metadata": {
    "collapsed": true
   },
   "outputs": [],
   "source": [
    "\n",
    "new2 = np.zeros([x,y])\n",
    "for i in range(x):\n",
    "    for j in range(y):\n",
    "        if new[i,j] == 0:\n",
    "            new2[i,j] = 1 "
   ]
  },
  {
   "cell_type": "code",
   "execution_count": null,
   "metadata": {},
   "outputs": [],
   "source": [
    "io.imshow(new2)\n",
    "plt.show()"
   ]
  },
  {
   "cell_type": "code",
   "execution_count": null,
   "metadata": {},
   "outputs": [],
   "source": [
    "from skimage.morphology import erosion\n",
    "\n",
    "img5 = io.imread('panda2.png')\n",
    "img5 = si.color.rgb2gray(img5)\n",
    "io.imshow(img5)\n",
    "\n",
    "plt.show()\n",
    "\n",
    "morph = [[1,1,1],[1,1,1],[1,1,1]]\n",
    "\n",
    "eroded = erosion(img5, morph) # use disk also---------------\n",
    "\n",
    "fig, axes = plt.subplots(nrows=1, ncols=2, figsize=(10, 5),\n",
    "                         sharex=True, sharey=True)\n",
    "ax = axes.ravel()\n",
    "ax[0].imshow(img5,cmap=plt.cm.gray)\n",
    "ax[1].imshow(eroded ,cmap=plt.cm.gray)    \n",
    "\n",
    "plt.tight_layout()\n",
    "plt.show()"
   ]
  },
  {
   "cell_type": "markdown",
   "metadata": {},
   "source": [
    "# <font color='red'> -------------Opening-------------------- </font>"
   ]
  },
  {
   "cell_type": "code",
   "execution_count": null,
   "metadata": {},
   "outputs": [],
   "source": [
    "from skimage.morphology import opening\n",
    "\n",
    "img6 = io.imread('panda2.png')\n",
    "img6 = si.color.rgb2gray(img6)\n",
    "io.imshow(img6)\n",
    "\n",
    "plt.show()\n",
    "\n",
    "morph = [[1,1,1],[1,1,1],[1,1,1]]\n",
    "\n",
    "opened = opening(img6, disk(2)) # use disk also---------------\n",
    "\n",
    "fig, axes = plt.subplots(nrows=1, ncols=2, figsize=(10, 5),\n",
    "                         sharex=True, sharey=True)\n",
    "ax = axes.ravel()\n",
    "ax[0].imshow(img6,cmap=plt.cm.gray)\n",
    "ax[1].imshow(opened ,cmap=plt.cm.gray)    \n",
    "\n",
    "plt.tight_layout()\n",
    "plt.show()"
   ]
  },
  {
   "cell_type": "markdown",
   "metadata": {
    "collapsed": true
   },
   "source": [
    "# -------Closing-----------------------"
   ]
  },
  {
   "cell_type": "code",
   "execution_count": null,
   "metadata": {},
   "outputs": [],
   "source": [
    "from skimage.morphology import closing\n",
    "\n",
    "img7 = io.imread('panda2.png')\n",
    "img7 = si.color.rgb2gray(img7)\n",
    "io.imshow(img7)\n",
    "\n",
    "plt.show()\n",
    "\n",
    "morph = [[1,1,1],[1,1,1],[1,1,1]]\n",
    "\n",
    "closed = closing(img7, disk(1)) # use disk also---------------\n",
    "\n",
    "fig, axes = plt.subplots(nrows=1, ncols=2, figsize=(10, 5),\n",
    "                         sharex=True, sharey=True)\n",
    "ax = axes.ravel()\n",
    "ax[0].imshow(img7,cmap=plt.cm.gray)\n",
    "ax[1].imshow(closed ,cmap=plt.cm.gray)    \n",
    "\n",
    "plt.tight_layout()\n",
    "plt.show()"
   ]
  },
  {
   "cell_type": "markdown",
   "metadata": {
    "collapsed": true
   },
   "source": [
    "# --------------exercise----------------"
   ]
  },
  {
   "cell_type": "markdown",
   "metadata": {
    "collapsed": true
   },
   "source": [
    "# 01.1 Draw 'F' as an image.(do not load an image of F)\n",
    "\n",
    "# 01.2 Draw a bank chess board\n",
    "\n",
    "# 01.3 take any rgb image. and show in 9 blocks as follows:\n",
    "##      [[Red block][Green Block][Blue Block]]\n",
    "##      [[Green block][Blue Block][Red Block]]\n",
    "##      [[Blue block][Red Block][Green Block]]"
   ]
  },
  {
   "cell_type": "markdown",
   "metadata": {
    "collapsed": true
   },
   "source": [
    "# 02. I have one letter as an image(img03.jpg) form. I am not able to read it. provide more clear picture of letter, using appropriate operations."
   ]
  },
  {
   "cell_type": "markdown",
   "metadata": {
    "collapsed": true
   },
   "source": [
    "# 03. Image (img03.jpg) contains too many dots, which makes the picture very noisey. Clean the image without loosing coins."
   ]
  },
  {
   "cell_type": "markdown",
   "metadata": {
    "collapsed": true
   },
   "source": [
    "# 04. Update the side face detection code to detect left-facing also."
   ]
  },
  {
   "cell_type": "markdown",
   "metadata": {},
   "source": [
    "# 05. Drowsiness detection Demo:\n",
    "\n",
    "#### https://www.pyimagesearch.com/2017/05/08/drowsiness-detection-opencv/"
   ]
  }
 ],
 "metadata": {
  "kernelspec": {
   "display_name": "Python 3",
   "language": "python",
   "name": "python3"
  },
  "language_info": {
   "codemirror_mode": {
    "name": "ipython",
    "version": 3
   },
   "file_extension": ".py",
   "mimetype": "text/x-python",
   "name": "python",
   "nbconvert_exporter": "python",
   "pygments_lexer": "ipython3",
   "version": "3.6.2"
  }
 },
 "nbformat": 4,
 "nbformat_minor": 2
}
