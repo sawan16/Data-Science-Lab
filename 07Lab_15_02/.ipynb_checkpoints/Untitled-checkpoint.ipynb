{
 "cells": [
  {
   "cell_type": "markdown",
   "metadata": {},
   "source": [
    "<br />\n",
    "<font size='10px' color='red'> Part 02: Open CV </font>"
   ]
  },
  {
   "cell_type": "code",
   "execution_count": 3,
   "metadata": {},
   "outputs": [
    {
     "name": "stdout",
     "output_type": "stream",
     "text": [
      "C:\\opencv\\opencv\\sources\\data\\haarcascades\\haarcascade_frontalface_default.xml\n"
     ]
    }
   ],
   "source": [
    "import cv2\n",
    "import sys\n",
    "\n",
    "cascpath = \"C:\\opencv\\opencv\\sources\\data\\haarcascades\\haarcascade_frontalface_default.xml\"\n",
    "print(cascpath)\n",
    "face_cascade = cv2.CascadeClassifier(cascpath)\n",
    "\n",
    "if len(sys.argv) < 2:\n",
    "    video_capture = cv2.VideoCapture(0)\n",
    "else:\n",
    "    video_capture = cv2.VideoCapture(sys.argv[1])\n",
    "\n",
    "while True:\n",
    "    # Capture frame-by-frame\n",
    "    ret, image = video_capture.read()\n",
    "    if not ret:\n",
    "        break\n",
    " \n",
    "    gray = cv2.cvtColor(image, cv2.COLOR_BGR2GRAY)\n",
    " \n",
    "    faces = face_cascade.detectMultiScale(\n",
    "        gray,\n",
    "        scaleFactor = 1.2,\n",
    "        minNeighbors = 5,\n",
    "        minSize = (30,30)\n",
    " \n",
    "        )\n",
    " \n",
    "    #print(\"The number of faces found = \", len(faces))\n",
    " \n",
    "    for (x,y,w,h) in faces:\n",
    "        cv2.rectangle(image, (x,y), (x+h, y+h), (0, 255, 0), 2)\n",
    " \n",
    "    cv2.imshow(\"Faces found\", image)\n",
    "\n",
    "    if cv2.waitKey(1) & 0xFF == ord('q'):\n",
    "        break\n",
    "\n",
    "video_capture.release()\n",
    "cv2.destroyAllWindows()\n"
   ]
  },
  {
   "cell_type": "code",
   "execution_count": 12,
   "metadata": {},
   "outputs": [
    {
     "data": {
      "image/png": "[encoded data removed]",
      "text/plain": [
       "<matplotlib.figure.Figure at 0x1e72758c9e8>"
      ]
     },
     "metadata": {},
     "output_type": "display_data"
    }
   ],
   "source": [
    "import cv2\n",
    "import matplotlib.pyplot as plt\n",
    "image = cv2.imread('img1.jpg')\n",
    "\n",
    "plt.imshow(image)\n",
    "plt.show()"
   ]
  },
  {
   "cell_type": "code",
   "execution_count": 2,
   "metadata": {
    "collapsed": true
   },
   "outputs": [],
   "source": [
    "image = cv2.imread('img2.jpg')\n",
    "\n",
    "gray_image = cv2.cvtColor(image, cv2.COLOR_BGR2GRAY)\n",
    "\n",
    "blurred_image = cv2.GaussianBlur(image, (7,7), 0)\n",
    "\n",
    "cv2.imshow('input',image)\n",
    "cv2.imshow('output',blurred_image)\n",
    "while(True):\n",
    "    k = cv2.waitKey(33)\n",
    "    if k == -1:  # if no key was pressed, -1 is returned\n",
    "        continue\n",
    "    else:\n",
    "        break\n",
    "cv2.destroyWindow('img')"
   ]
  },
  {
   "cell_type": "markdown",
   "metadata": {
    "collapsed": true
   },
   "source": [
    "### import cv2\n"
   ]
  },
  {
   "cell_type": "code",
   "execution_count": null,
   "metadata": {},
   "outputs": [],
   "source": [
    "import cv2\n",
    "image = cv2.imread('img2.jpg')\n",
    "image1 = cv2.flip(image,1)\n",
    "cv2.imshow('input',image)\n",
    "cv2.imshow('output',image1)\n",
    "\n",
    "while(True):\n",
    "    k = cv2.waitKey(33)\n",
    "    if k == -1:  # if no key was pressed, -1 is returned\n",
    "        continue\n",
    "    else:\n",
    "        break\n",
    "cv2.destroyWindow('img')"
   ]
  },
  {
   "cell_type": "code",
   "execution_count": null,
   "metadata": {
    "collapsed": true
   },
   "outputs": [],
   "source": []
  }
 ],
 "metadata": {
  "kernelspec": {
   "display_name": "Python 3",
   "language": "python",
   "name": "python3"
  },
  "language_info": {
   "codemirror_mode": {
    "name": "ipython",
    "version": 3
   },
   "file_extension": ".py",
   "mimetype": "text/x-python",
   "name": "python",
   "nbconvert_exporter": "python",
   "pygments_lexer": "ipython3",
   "version": "3.6.2"
  }
 },
 "nbformat": 4,
 "nbformat_minor": 2
}
