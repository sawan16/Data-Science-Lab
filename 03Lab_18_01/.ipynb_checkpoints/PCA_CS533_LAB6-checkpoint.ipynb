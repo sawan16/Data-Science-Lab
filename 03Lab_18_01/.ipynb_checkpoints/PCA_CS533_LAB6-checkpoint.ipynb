{
 "cells": [
  {
   "cell_type": "code",
   "execution_count": null,
   "metadata": {
    "collapsed": true
   },
   "outputs": [],
   "source": [
    "# PRIA 2017 Code Module\n",
    "# Feature Selection using PCA\n",
    "# Author: Ashish Gupta Sir"
   ]
  },
  {
   "cell_type": "code",
   "execution_count": 2,
   "metadata": {},
   "outputs": [
    {
     "name": "stdout",
     "output_type": "stream",
     "text": [
      "dict_items([(0, 'sepal length in cm'), (1, 'sepal width in cm'), (2, 'petal length in cm'), (3, 'petal width in cm')])\n",
      "[(0, 'sepal length in cm'), (1, 'sepal width in cm'), (2, 'petal length in cm'), (3, 'petal width in cm')]\n"
     ]
    }
   ],
   "source": [
    "# define a dictionary here\n",
    "import numpy as np\n",
    "feature_dict = {i:label for i,label in zip(\n",
    "                range(4),\n",
    "                  ('sepal length in cm',\n",
    "                  'sepal width in cm',\n",
    "                  'petal length in cm',\n",
    "                  'petal width in cm', ))}\n",
    "\n",
    "print(feature_dict.items())\n",
    "\n",
    "print(sorted(feature_dict.items()))\n"
   ]
  },
  {
   "cell_type": "code",
   "execution_count": null,
   "metadata": {},
   "outputs": [],
   "source": [
    "#df1 = pd.read_csv('iris.dat')\n",
    "\n",
    "for line in open('iris.dat', 'r'):\n",
    "    item = line.rstrip() # strip off newline and any other trailing whitespace\n",
    "    print(item)\n",
    "    \n",
    "dt2 = np.loadtxt('iris.dat')"
   ]
  },
  {
   "cell_type": "code",
   "execution_count": 3,
   "metadata": {},
   "outputs": [
    {
     "data": {
      "text/html": [
       "<div>\n",
       "<style>\n",
       "    .dataframe thead tr:only-child th {\n",
       "        text-align: right;\n",
       "    }\n",
       "\n",
       "    .dataframe thead th {\n",
       "        text-align: left;\n",
       "    }\n",
       "\n",
       "    .dataframe tbody tr th {\n",
       "        vertical-align: top;\n",
       "    }\n",
       "</style>\n",
       "<table border=\"1\" class=\"dataframe\">\n",
       "  <thead>\n",
       "    <tr style=\"text-align: right;\">\n",
       "      <th></th>\n",
       "      <th>0</th>\n",
       "      <th>1</th>\n",
       "      <th>2</th>\n",
       "      <th>3</th>\n",
       "      <th>class label</th>\n",
       "    </tr>\n",
       "  </thead>\n",
       "  <tbody>\n",
       "    <tr>\n",
       "      <th>145</th>\n",
       "      <td>6.7</td>\n",
       "      <td>3.0</td>\n",
       "      <td>5.2</td>\n",
       "      <td>2.3</td>\n",
       "      <td>2</td>\n",
       "    </tr>\n",
       "    <tr>\n",
       "      <th>146</th>\n",
       "      <td>6.3</td>\n",
       "      <td>2.5</td>\n",
       "      <td>5.0</td>\n",
       "      <td>1.9</td>\n",
       "      <td>2</td>\n",
       "    </tr>\n",
       "    <tr>\n",
       "      <th>147</th>\n",
       "      <td>6.5</td>\n",
       "      <td>3.0</td>\n",
       "      <td>5.2</td>\n",
       "      <td>2.0</td>\n",
       "      <td>2</td>\n",
       "    </tr>\n",
       "    <tr>\n",
       "      <th>148</th>\n",
       "      <td>6.2</td>\n",
       "      <td>3.4</td>\n",
       "      <td>5.4</td>\n",
       "      <td>2.3</td>\n",
       "      <td>2</td>\n",
       "    </tr>\n",
       "    <tr>\n",
       "      <th>149</th>\n",
       "      <td>5.9</td>\n",
       "      <td>3.0</td>\n",
       "      <td>5.1</td>\n",
       "      <td>1.8</td>\n",
       "      <td>2</td>\n",
       "    </tr>\n",
       "  </tbody>\n",
       "</table>\n",
       "</div>"
      ],
      "text/plain": [
       "       0    1    2    3  class label\n",
       "145  6.7  3.0  5.2  2.3            2\n",
       "146  6.3  2.5  5.0  1.9            2\n",
       "147  6.5  3.0  5.2  2.0            2\n",
       "148  6.2  3.4  5.4  2.3            2\n",
       "149  5.9  3.0  5.1  1.8            2"
      ]
     },
     "execution_count": 3,
     "metadata": {},
     "output_type": "execute_result"
    }
   ],
   "source": [
    "import pandas as pd\n",
    "\n",
    "#url='https://archive.ics.uci.edu/ml/machine-learning-databases/iris/iris.data';\n",
    "df = pd.read_csv('iris.csv',sep=',')\n",
    "\n",
    "df.columns = [i for i,l in sorted(feature_dict.items())] + ['class label']\n",
    "df.dropna(how=\"all\", inplace=True) # to drop the empty line at file-end\n",
    "\n",
    "df.tail()"
   ]
  },
  {
   "cell_type": "code",
   "execution_count": 4,
   "metadata": {},
   "outputs": [
    {
     "name": "stdout",
     "output_type": "stream",
     "text": [
      "[1 1 1 1 1 1 1 1 1 1 1 1 1 1 1 1 1 1 1 1 1 1 1 1 1 1 1 1 1 1 1 1 1 1 1 1 1\n",
      " 1 1 1 1 1 1 1 1 1 1 1 1 1 2 2 2 2 2 2 2 2 2 2 2 2 2 2 2 2 2 2 2 2 2 2 2 2\n",
      " 2 2 2 2 2 2 2 2 2 2 2 2 2 2 2 2 2 2 2 2 2 2 2 2 2 2 3 3 3 3 3 3 3 3 3 3 3\n",
      " 3 3 3 3 3 3 3 3 3 3 3 3 3 3 3 3 3 3 3 3 3 3 3 3 3 3 3 3 3 3 3 3 3 3 3 3 3\n",
      " 3 3]\n"
     ]
    },
    {
     "data": {
      "text/plain": [
       "(150, 4)"
      ]
     },
     "execution_count": 4,
     "metadata": {},
     "output_type": "execute_result"
    }
   ],
   "source": [
    "from sklearn.preprocessing import LabelEncoder\n",
    "\n",
    "X = df[[0,1,2,3]].values\n",
    "y = df['class label'].values\n",
    "\n",
    "enc = LabelEncoder()\n",
    "label_encoder = enc.fit(y)\n",
    "#y = label_encoder.transform(y) + 1\n",
    "y +=1\n",
    "print(y)\n",
    "label_dict = {1: 'Setosa', 2: 'Versicolor', 3:'Virginica'}\n",
    "np.shape(X)"
   ]
  },
  {
   "cell_type": "code",
   "execution_count": null,
   "metadata": {
    "collapsed": true
   },
   "outputs": [],
   "source": [
    "%matplotlib inline\n",
    "\n",
    "from matplotlib import pyplot as plt\n",
    "import numpy as np\n",
    "import math\n",
    "\n",
    "fig, axes = plt.subplots(nrows=2, ncols=2, figsize=(12,6))\n",
    "\n",
    "for ax,cnt in zip(axes.ravel(), range(4)):  \n",
    "    #print(X[:,cnt])\n",
    "    # set bin sizes\n",
    "    min_b = math.floor(np.min(X[:,(int)(cnt)]))\n",
    "    max_b = math.ceil(np.max(X[:,cnt]))\n",
    "    bins = np.linspace(min_b, max_b, 25)\n",
    "    #print(bins)\n",
    "    \n",
    "    \n",
    "    # plottling the histograms\n",
    "    for lab,col in zip(range(1,4), ('blue', 'red', 'green')):\n",
    "        print(lab)\n",
    "        ax.hist(X[y==lab, cnt],\n",
    "                   color=col,\n",
    "                   label='class %s' %label_dict[lab],\n",
    "                   bins=bins,\n",
    "                   alpha=0.5,)\n",
    "    ylims = ax.get_ylim()\n",
    "\n",
    "    # plot annotation\n",
    "    leg = ax.legend(loc='upper right', fancybox=True, fontsize=8)\n",
    "    leg.get_frame().set_alpha(0.5)\n",
    "    ax.set_ylim([0, max(ylims)+2])\n",
    "    ax.set_xlabel(feature_dict[cnt])\n",
    "    ax.set_title('Iris histogram #%s' %str(cnt+1))\n",
    "    \n",
    "    # hide axis ticks\n",
    "    ax.tick_params(axis=\"both\", which=\"both\", bottom=\"off\", top=\"off\",  \n",
    "            labelbottom=\"on\", left=\"off\", right=\"off\", labelleft=\"on\")\n",
    "    \n",
    "\n",
    "    # remove axis spines\n",
    "    ax.spines[\"top\"].set_visible(False)  \n",
    "    ax.spines[\"right\"].set_visible(False)\n",
    "    ax.spines[\"bottom\"].set_visible(False)\n",
    "    ax.spines[\"left\"].set_visible(False)           \n",
    "\n",
    "axes[0][0].set_ylabel('count')\n",
    "axes[1][0].set_ylabel('count')\n",
    "\n",
    "fig.tight_layout()       \n",
    "\n",
    "plt.show()"
   ]
  },
  {
   "cell_type": "code",
   "execution_count": 5,
   "metadata": {},
   "outputs": [
    {
     "name": "stdout",
     "output_type": "stream",
     "text": [
      "[ -4.73695157e-16  -6.63173220e-16   3.31586610e-16  -2.84217094e-16]\n",
      "Covariance matrix \n",
      "[[ 1.00671141 -0.11010327  0.87760486  0.82344326]\n",
      " [-0.11010327  1.00671141 -0.42333835 -0.358937  ]\n",
      " [ 0.87760486 -0.42333835  1.00671141  0.96921855]\n",
      " [ 0.82344326 -0.358937    0.96921855  1.00671141]]\n"
     ]
    }
   ],
   "source": [
    "# step1 : \n",
    "\n",
    "from sklearn.preprocessing import StandardScaler\n",
    "X_std = StandardScaler().fit_transform(X) \n",
    "\n",
    "#print(X_std)\n",
    "import numpy as np\n",
    "mean_vec = np.mean(X_std, axis=0)\n",
    "print(mean_vec)\n",
    "#print(np.shape(X_std.T))\n",
    "\n",
    "cov_mat = (X_std - mean_vec).T.dot((X_std - mean_vec)) / (X_std.shape[0]-1)\n",
    "print('Covariance matrix \\n%s' %cov_mat)"
   ]
  },
  {
   "cell_type": "code",
   "execution_count": 6,
   "metadata": {},
   "outputs": [
    {
     "name": "stdout",
     "output_type": "stream",
     "text": [
      "Eigenvectors \n",
      "[[ 0.52237162 -0.37231836 -0.72101681  0.26199559]\n",
      " [-0.26335492 -0.92555649  0.24203288 -0.12413481]\n",
      " [ 0.58125401 -0.02109478  0.14089226 -0.80115427]\n",
      " [ 0.56561105 -0.06541577  0.6338014   0.52354627]]\n",
      "\n",
      "Eigenvalues \n",
      "[ 2.93035378  0.92740362  0.14834223  0.02074601]\n"
     ]
    }
   ],
   "source": [
    "# eigenvalue decompisition\n",
    "\n",
    "cov_mat = np.cov(X_std.T)\n",
    "\n",
    "eig_vals, eig_vecs = np.linalg.eig(cov_mat)\n",
    "\n",
    "print('Eigenvectors \\n%s' %eig_vecs)\n",
    "print('\\nEigenvalues \\n%s' %eig_vals)"
   ]
  },
  {
   "cell_type": "code",
   "execution_count": 7,
   "metadata": {},
   "outputs": [
    {
     "name": "stdout",
     "output_type": "stream",
     "text": [
      "----pairs-----\n",
      "[(2.9303537755893152, array([ 0.52237162, -0.26335492,  0.58125401,  0.56561105])), (0.92740362151734068, array([-0.37231836, -0.92555649, -0.02109478, -0.06541577])), (0.14834222648163981, array([-0.72101681,  0.24203288,  0.14089226,  0.6338014 ])), (0.020746013995596221, array([ 0.26199559, -0.12413481, -0.80115427,  0.52354627]))]\n",
      "----pairs after sorting-----\n",
      "[(2.9303537755893152, array([ 0.52237162, -0.26335492,  0.58125401,  0.56561105])), (0.92740362151734068, array([-0.37231836, -0.92555649, -0.02109478, -0.06541577])), (0.14834222648163981, array([-0.72101681,  0.24203288,  0.14089226,  0.6338014 ])), (0.020746013995596221, array([ 0.26199559, -0.12413481, -0.80115427,  0.52354627]))]\n",
      "Eigenvalues in descending order:\n",
      "[ 0.52237162 -0.26335492  0.58125401  0.56561105]\n",
      "[-0.37231836 -0.92555649 -0.02109478 -0.06541577]\n",
      "[-0.72101681  0.24203288  0.14089226  0.6338014 ]\n",
      "[ 0.26199559 -0.12413481 -0.80115427  0.52354627]\n"
     ]
    }
   ],
   "source": [
    "# Make a list of (eigenvalue, eigenvector) tuples\n",
    "eig_pairs = [(np.abs(eig_vals[i]), eig_vecs[:,i]) for i in range(len(eig_vals))]\n",
    "\n",
    "\n",
    "print(\"----pairs-----\")\n",
    "print(eig_pairs)\n",
    "# Sort the (eigenvalue, eigenvector) tuples from high to low\n",
    "eig_pairs.sort()\n",
    "eig_pairs.reverse()\n",
    "\n",
    "\n",
    "print(\"----pairs after sorting-----\")\n",
    "print(eig_pairs)\n",
    "# Visually confirm that the list is correctly sorted by decreasing eigenvalues\n",
    "print('Eigenvalues in descending order:')\n",
    "for i in eig_pairs:\n",
    "    print(i[1])"
   ]
  },
  {
   "cell_type": "code",
   "execution_count": 8,
   "metadata": {},
   "outputs": [
    {
     "name": "stdout",
     "output_type": "stream",
     "text": [
      "sum of eig_vals: 4.02684563758\n",
      "% in total sum\n",
      "[72.770452093801339, 23.030523267680632, 3.683831957627389, 0.51519268089063952]\n"
     ]
    }
   ],
   "source": [
    "tot = sum(eig_vals)\n",
    "\n",
    "print('sum of eig_vals:',tot)\n",
    "\n",
    "print('% in total sum')\n",
    "var_exp = [(i / tot)*100 for i in sorted(eig_vals, reverse=True)]\n",
    "cum_var_exp = np.cumsum(var_exp)\n",
    "print(var_exp)"
   ]
  },
  {
   "cell_type": "code",
   "execution_count": 9,
   "metadata": {},
   "outputs": [
    {
     "name": "stdout",
     "output_type": "stream",
     "text": [
      "Matrix W:\n",
      " [[ 0.52237162 -0.37231836]\n",
      " [-0.26335492 -0.92555649]\n",
      " [ 0.58125401 -0.02109478]\n",
      " [ 0.56561105 -0.06541577]]\n"
     ]
    }
   ],
   "source": [
    "matrix_w = np.hstack((eig_pairs[0][1].reshape(4,1), \n",
    "                      eig_pairs[1][1].reshape(4,1)))\n",
    "\n",
    "print('Matrix W:\\n', matrix_w)"
   ]
  },
  {
   "cell_type": "code",
   "execution_count": 10,
   "metadata": {},
   "outputs": [
    {
     "data": {
      "text/plain": [
       "array([[ -2.26454173e+00,  -5.05703903e-01],\n",
       "       [ -2.08642550e+00,   6.55404729e-01],\n",
       "       [ -2.36795045e+00,   3.18477311e-01],\n",
       "       [ -2.30419716e+00,   5.75367713e-01],\n",
       "       [ -2.38877749e+00,  -6.74767397e-01],\n",
       "       [ -2.07053681e+00,  -1.51854856e+00],\n",
       "       [ -2.44571134e+00,  -7.45626750e-02],\n",
       "       [ -2.23384186e+00,  -2.47613932e-01],\n",
       "       [ -2.34195768e+00,   1.09514636e+00],\n",
       "       [ -2.18867576e+00,   4.48629048e-01],\n",
       "       [ -2.16348656e+00,  -1.07059558e+00],\n",
       "       [ -2.32737775e+00,  -1.58587455e-01],\n",
       "       [ -2.22408272e+00,   7.09118158e-01],\n",
       "       [ -2.63971626e+00,   9.38281982e-01],\n",
       "       [ -2.19229151e+00,  -1.88997851e+00],\n",
       "       [ -2.25146521e+00,  -2.72237108e+00],\n",
       "       [ -2.20275048e+00,  -1.51375028e+00],\n",
       "       [ -2.19017916e+00,  -5.14304308e-01],\n",
       "       [ -1.89407429e+00,  -1.43111071e+00],\n",
       "       [ -2.33994907e+00,  -1.15803343e+00],\n",
       "       [ -1.91455639e+00,  -4.30465163e-01],\n",
       "       [ -2.20464540e+00,  -9.52457317e-01],\n",
       "       [ -2.77416979e+00,  -4.89517027e-01],\n",
       "       [ -1.82041156e+00,  -1.06750793e-01],\n",
       "       [ -2.22821750e+00,  -1.62186163e-01],\n",
       "       [ -1.95702401e+00,   6.07892567e-01],\n",
       "       [ -2.05206331e+00,  -2.66014312e-01],\n",
       "       [ -2.16819365e+00,  -5.52016495e-01],\n",
       "       [ -2.14030596e+00,  -3.36640409e-01],\n",
       "       [ -2.26879019e+00,   3.14878603e-01],\n",
       "       [ -2.14455443e+00,   4.83942097e-01],\n",
       "       [ -1.83193810e+00,  -4.45266836e-01],\n",
       "       [ -2.60820287e+00,  -1.82847519e+00],\n",
       "       [ -2.43795086e+00,  -2.18539162e+00],\n",
       "       [ -2.18867576e+00,   4.48629048e-01],\n",
       "       [ -2.21111990e+00,   1.84337811e-01],\n",
       "       [ -2.04441652e+00,  -6.84956426e-01],\n",
       "       [ -2.18867576e+00,   4.48629048e-01],\n",
       "       [ -2.43595220e+00,   8.82169415e-01],\n",
       "       [ -2.17054720e+00,  -2.92726955e-01],\n",
       "       [ -2.28652724e+00,  -4.67991716e-01],\n",
       "       [ -1.87170722e+00,   2.32769161e+00],\n",
       "       [ -2.55783442e+00,   4.53816380e-01],\n",
       "       [ -1.96427929e+00,  -4.97391640e-01],\n",
       "       [ -2.13337283e+00,  -1.17143211e+00],\n",
       "       [ -2.07535759e+00,   6.91917347e-01],\n",
       "       [ -2.38125822e+00,  -1.15063259e+00],\n",
       "       [ -2.39819169e+00,   3.62390765e-01],\n",
       "       [ -2.22678121e+00,  -1.02548255e+00],\n",
       "       [ -2.20595417e+00,  -3.22378453e-02],\n",
       "       [  1.10399365e+00,  -8.63112446e-01],\n",
       "       [  7.32481440e-01,  -5.98635573e-01],\n",
       "       [  1.24210951e+00,  -6.14822450e-01],\n",
       "       [  3.97307283e-01,   1.75816895e+00],\n",
       "       [  1.07259395e+00,   2.11757903e-01],\n",
       "       [  3.84458146e-01,   5.91062469e-01],\n",
       "       [  7.48715076e-01,  -7.78698611e-01],\n",
       "       [ -4.97863388e-01,   1.84886877e+00],\n",
       "       [  9.26222368e-01,  -3.03308268e-02],\n",
       "       [  4.96802558e-03,   1.02940111e+00],\n",
       "       [ -1.24697461e-01,   2.65806268e+00],\n",
       "       [  4.38730118e-01,   5.88812850e-02],\n",
       "       [  5.51633981e-01,   1.77258156e+00],\n",
       "       [  7.17165066e-01,   1.85434315e-01],\n",
       "       [ -3.72583830e-02,   4.32795099e-01],\n",
       "       [  8.75890536e-01,  -5.09998151e-01],\n",
       "       [  3.48006402e-01,   1.90621647e-01],\n",
       "       [  1.53392545e-01,   7.90725456e-01],\n",
       "       [  1.21530321e+00,   1.63335564e+00],\n",
       "       [  1.56941176e-01,   1.30310327e+00],\n",
       "       [  7.38256104e-01,  -4.02470382e-01],\n",
       "       [  4.72369682e-01,   4.16608222e-01],\n",
       "       [  1.22798821e+00,   9.40914793e-01],\n",
       "       [  6.29381045e-01,   4.16811643e-01],\n",
       "       [  7.00472799e-01,   6.34939277e-02],\n",
       "       [  8.73536987e-01,  -2.50708611e-01],\n",
       "       [  1.25422219e+00,   8.26200998e-02],\n",
       "       [  1.35823985e+00,  -3.28820266e-01],\n",
       "       [  6.62126138e-01,   2.24346071e-01],\n",
       "       [ -4.72815133e-02,   1.05721241e+00],\n",
       "       [  1.21534209e-01,   1.56359238e+00],\n",
       "       [  1.41182261e-02,   1.57339235e+00],\n",
       "       [  2.36010837e-01,   7.75923784e-01],\n",
       "       [  1.05669143e+00,   6.36901284e-01],\n",
       "       [  2.21417088e-01,   2.80847693e-01],\n",
       "       [  4.31783161e-01,  -8.55136920e-01],\n",
       "       [  1.04941336e+00,  -5.22197265e-01],\n",
       "       [  1.03587821e+00,   1.39246648e+00],\n",
       "       [  6.70675999e-02,   2.12620735e-01],\n",
       "       [  2.75425066e-01,   1.32981591e+00],\n",
       "       [  2.72335066e-01,   1.11944152e+00],\n",
       "       [  6.23170540e-01,  -2.75426333e-02],\n",
       "       [  3.30005364e-01,   9.88900732e-01],\n",
       "       [ -3.73627623e-01,   2.01793227e+00],\n",
       "       [  2.82944343e-01,   8.53950717e-01],\n",
       "       [  8.90531103e-02,   1.74908548e-01],\n",
       "       [  2.24356783e-01,   3.80484659e-01],\n",
       "       [  5.73883486e-01,   1.53719974e-01],\n",
       "       [ -4.57012873e-01,   1.53946451e+00],\n",
       "       [  2.52244473e-01,   5.95860746e-01],\n",
       "       [  1.84767259e+00,  -8.71696662e-01],\n",
       "       [  1.15318981e+00,   7.01326114e-01],\n",
       "       [  2.20634950e+00,  -5.54470105e-01],\n",
       "       [  1.43868540e+00,   5.00105223e-02],\n",
       "       [  1.86789070e+00,  -2.91192802e-01],\n",
       "       [  2.75419671e+00,  -7.88432206e-01],\n",
       "       [  3.58374475e-01,   1.56009458e+00],\n",
       "       [  2.30300590e+00,  -4.09516695e-01],\n",
       "       [  2.00173530e+00,   7.23865359e-01],\n",
       "       [  2.26755460e+00,  -1.92144299e+00],\n",
       "       [  1.36590943e+00,  -6.93948040e-01],\n",
       "       [  1.59906459e+00,   4.28248836e-01],\n",
       "       [  1.88425185e+00,  -4.14332758e-01],\n",
       "       [  1.25308651e+00,   1.16739134e+00],\n",
       "       [  1.46406152e+00,   4.44147569e-01],\n",
       "       [  1.59180930e+00,  -6.77035372e-01],\n",
       "       [  1.47128019e+00,  -2.53192472e-01],\n",
       "       [  2.43737848e+00,  -2.55675734e+00],\n",
       "       [  3.30914118e+00,   2.36132010e-03],\n",
       "       [  1.25398099e+00,   1.71758384e+00],\n",
       "       [  2.04049626e+00,  -9.07398765e-01],\n",
       "       [  9.73915114e-01,   5.71174376e-01],\n",
       "       [  2.89806444e+00,  -3.97791359e-01],\n",
       "       [  1.32919369e+00,   4.86760542e-01],\n",
       "       [  1.70424071e+00,  -1.01414842e+00],\n",
       "       [  1.95772766e+00,  -1.00333452e+00],\n",
       "       [  1.17190451e+00,   3.18896617e-01],\n",
       "       [  1.01978105e+00,  -6.55429631e-02],\n",
       "       [  1.78600886e+00,   1.93272800e-01],\n",
       "       [  1.86477791e+00,  -5.55381532e-01],\n",
       "       [  2.43549739e+00,  -2.46654468e-01],\n",
       "       [  2.31608241e+00,  -2.62618387e+00],\n",
       "       [  1.86037143e+00,   1.84672394e-01],\n",
       "       [  1.11127173e+00,   2.95986102e-01],\n",
       "       [  1.19746916e+00,   8.17167742e-01],\n",
       "       [  2.80094940e+00,  -8.44748194e-01],\n",
       "       [  1.58015525e+00,  -1.07247450e+00],\n",
       "       [  1.34704442e+00,  -4.22255966e-01],\n",
       "       [  9.23432978e-01,  -1.92303705e-02],\n",
       "       [  1.85355198e+00,  -6.72422729e-01],\n",
       "       [  2.01615720e+00,  -6.10397038e-01],\n",
       "       [  1.90311686e+00,  -6.86024832e-01],\n",
       "       [  1.15318981e+00,   7.01326114e-01],\n",
       "       [  2.04330844e+00,  -8.64684880e-01],\n",
       "       [  2.00169097e+00,  -1.04855005e+00],\n",
       "       [  1.87052207e+00,  -3.82821838e-01],\n",
       "       [  1.55849189e+00,   9.05313601e-01],\n",
       "       [  1.52084506e+00,  -2.66794575e-01],\n",
       "       [  1.37639119e+00,  -1.01636193e+00],\n",
       "       [  9.59298576e-01,   2.22839447e-02]])"
      ]
     },
     "execution_count": 10,
     "metadata": {},
     "output_type": "execute_result"
    }
   ],
   "source": [
    "#3 - Projection Onto the New Feature Space\n",
    "\n",
    "X_pca = X_std.dot(matrix_w)\n",
    "\n",
    "X_pca"
   ]
  },
  {
   "cell_type": "code",
   "execution_count": null,
   "metadata": {
    "collapsed": true
   },
   "outputs": [],
   "source": [
    "from matplotlib import pyplot as plt\n",
    "\n",
    "def plot_step_pca():\n",
    "\n",
    "    ax = plt.subplot(111)\n",
    "    for label,marker,color in zip(\n",
    "        range(1,4),('^', 's', 'o'),('blue', 'red', 'green')):\n",
    "\n",
    "        plt.scatter(x=X_pca[:,0].real[y == label],\n",
    "                y=X_pca[:,1].real[y == label],\n",
    "                marker=marker,\n",
    "                color=color,\n",
    "                alpha=0.5,\n",
    "                label=label_dict[label]\n",
    "                )\n",
    "\n",
    "    plt.xlabel('PCA1')\n",
    "    plt.ylabel('PCA2')\n",
    "\n",
    "    leg = plt.legend(loc='upper right', fancybox=True)\n",
    "    leg.get_frame().set_alpha(0.5)\n",
    "    plt.title('PCA: Iris projection onto the first 2 linear discriminants')\n",
    "\n",
    "    # hide axis ticks\n",
    "    plt.tick_params(axis=\"both\", which=\"both\", bottom=\"off\", top=\"off\",  \n",
    "            labelbottom=\"on\", left=\"off\", right=\"off\", labelleft=\"on\")\n",
    "\n",
    "    # remove axis spines\n",
    "    ax.spines[\"top\"].set_visible(False)  \n",
    "    #ax.spines[\"right\"].set_visible(False)\n",
    "    #ax.spines[\"bottom\"].set_visible(False)\n",
    "    #ax.spines[\"left\"].set_visible(False)    \n",
    "\n",
    "    plt.grid()\n",
    "    #plt.tight_layout\n",
    "    plt.show()\n",
    "\n",
    "plot_step_pca()\n"
   ]
  },
  {
   "cell_type": "code",
   "execution_count": null,
   "metadata": {
    "collapsed": true
   },
   "outputs": [],
   "source": [
    "# Assignment\n",
    "\n",
    "# 01. find  covariance between the x and y \n",
    "# x ->  10 39 19 23 28 45 66 43 78 41 91\n",
    "# y ->  43 13 32 21 20 54 23 41 26 62 23\n",
    " \n",
    "\n",
    "# 02. Load the Titanic Dataset and apply PCA.\n",
    "#     Hints:[i) Only Consider Numerical Features. ii) You may need to apply preprocessing]\n",
    "\n",
    "# 03. Search one Classification dataset on the Web(Can be processed on your Machines) apply PCA on it.\n",
    "\n",
    "# Bonus\n",
    "# 04. \n",
    "#   i) Search the inbuilt utility for feature selection in Python.\n",
    "#   ii) Match the result from your hard-coded approach.\n",
    "#   iii) If there is any difference, document the reason.\n",
    "\n",
    "# Thank you...."
   ]
  }
 ],
 "metadata": {
  "kernelspec": {
   "display_name": "Python 3",
   "language": "python",
   "name": "python3"
  },
  "language_info": {
   "codemirror_mode": {
    "name": "ipython",
    "version": 3
   },
   "file_extension": ".py",
   "mimetype": "text/x-python",
   "name": "python",
   "nbconvert_exporter": "python",
   "pygments_lexer": "ipython3",
   "version": "3.6.2"
  }
 },
 "nbformat": 4,
 "nbformat_minor": 2
}
