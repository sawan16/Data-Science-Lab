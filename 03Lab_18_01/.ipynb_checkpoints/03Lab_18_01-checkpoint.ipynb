{
 "cells": [
  {
   "cell_type": "markdown",
   "metadata": {},
   "source": [
    "# Numerical Data Preprocessing"
   ]
  },
  {
   "cell_type": "code",
   "execution_count": 5,
   "metadata": {},
   "outputs": [
    {
     "name": "stdout",
     "output_type": "stream",
     "text": [
      "Diabetes Dataset: \n",
      "\n",
      "     0      1     2     3      4     5      6   7  8\n",
      "0  6.0  148.0  72.0  35.0    NaN  33.6  0.627   5  1\n",
      "1  1.0   85.0  66.0  29.0    NaN  26.6  0.351  31  0\n",
      "2  8.0  183.0  64.0   NaN    NaN  23.3  0.672  32  1\n",
      "3  1.0   89.0  66.0  23.0   94.0  28.1  0.167  21  0\n",
      "4  NaN  137.0   4.0  35.0  168.0  43.1  2.288  33  1\n",
      "Meta Info: \n",
      "\n",
      "                0           1           2           3           4           5  \\\n",
      "count  657.000000  763.000000  733.000000  541.000000  394.000000  757.000000   \n",
      "mean     4.165906   99.310616   55.706685   25.876155  105.659898   29.865654   \n",
      "std      3.095265   55.115381   29.878852   12.967816  116.862508   10.686049   \n",
      "min      1.000000    1.000000    1.000000    1.000000    1.000000    2.000000   \n",
      "25%      2.000000   72.500000   16.000000   18.000000   21.000000   25.400000   \n",
      "50%      3.000000  113.000000   66.000000   27.000000   71.000000   32.000000   \n",
      "75%      6.000000  138.000000   76.000000   35.000000  151.000000   36.100000   \n",
      "max     17.000000  199.000000  122.000000   99.000000  846.000000   67.100000   \n",
      "\n",
      "                6           7           8  \n",
      "count  768.000000  768.000000  768.000000  \n",
      "mean     0.490439   30.990885    0.348958  \n",
      "std      0.346050   13.281475    0.476951  \n",
      "min      0.100000    3.000000    0.000000  \n",
      "25%      0.253750   23.000000    0.000000  \n",
      "50%      0.382500   28.000000    0.000000  \n",
      "75%      0.647500   38.250000    1.000000  \n",
      "max      2.420000   81.000000    1.000000  \n"
     ]
    }
   ],
   "source": [
    "import pandas as pd\n",
    "\n",
    "\n",
    "data1=pd.read_csv(\"test.csv\", header=None)           \n",
    "#link https://raw.githubusercontent.com/jbrownlee/Datasets/master/pima-indians-diabetes.data.csv\n",
    "\n",
    "print('Diabetes Dataset: \\n')\n",
    "print(data1.head())\n",
    "\n",
    "print('Meta Info: \\n')\n",
    "print(data1.describe())\n"
   ]
  },
  {
   "cell_type": "code",
   "execution_count": 6,
   "metadata": {},
   "outputs": [
    {
     "data": {
      "text/plain": [
       "0    111\n",
       "1      5\n",
       "2     35\n",
       "3    227\n",
       "4    374\n",
       "5     11\n",
       "6      0\n",
       "7      0\n",
       "8      0\n",
       "dtype: int64"
      ]
     },
     "execution_count": 6,
     "metadata": {},
     "output_type": "execute_result"
    }
   ],
   "source": [
    "# find the missing values\n",
    "data1.isnull().sum()"
   ]
  },
  {
   "cell_type": "markdown",
   "metadata": {},
   "source": [
    "# Replace with Zero"
   ]
  },
  {
   "cell_type": "code",
   "execution_count": 7,
   "metadata": {},
   "outputs": [
    {
     "name": "stdout",
     "output_type": "stream",
     "text": [
      "     0      1     2     3      4     5      6   7  8\n",
      "0  6.0  148.0  72.0  35.0    0.0  33.6  0.627   5  1\n",
      "1  1.0   85.0  66.0  29.0    0.0  26.6  0.351  31  0\n",
      "2  8.0  183.0  64.0   0.0    0.0  23.3  0.672  32  1\n",
      "3  1.0   89.0  66.0  23.0   94.0  28.1  0.167  21  0\n",
      "4  0.0  137.0   4.0  35.0  168.0  43.1  2.288  33  1\n",
      "                0           1           2           3           4           5  \\\n",
      "count  768.000000  768.000000  768.000000  768.000000  768.000000  768.000000   \n",
      "mean     3.563802   98.664062   53.167969   18.227865   54.205729   29.437891   \n",
      "std      3.216011   55.513759   31.419136   16.062018   98.946059   11.187619   \n",
      "min      0.000000    0.000000    0.000000    0.000000    0.000000    0.000000   \n",
      "25%      1.000000   71.000000    9.000000    0.000000    0.000000   25.200000   \n",
      "50%      3.000000  113.000000   66.000000   19.000000    2.000000   31.600000   \n",
      "75%      6.000000  138.000000   76.000000   32.000000   73.250000   35.925000   \n",
      "max     17.000000  199.000000  122.000000   99.000000  846.000000   67.100000   \n",
      "\n",
      "                6           7           8  \n",
      "count  768.000000  768.000000  768.000000  \n",
      "mean     0.490439   30.990885    0.348958  \n",
      "std      0.346050   13.281475    0.476951  \n",
      "min      0.100000    3.000000    0.000000  \n",
      "25%      0.253750   23.000000    0.000000  \n",
      "50%      0.382500   28.000000    0.000000  \n",
      "75%      0.647500   38.250000    1.000000  \n",
      "max      2.420000   81.000000    1.000000  \n"
     ]
    }
   ],
   "source": [
    "data2 = data1.fillna(0)\n",
    "print(data2.head())\n",
    "print(data2.describe())"
   ]
  },
  {
   "cell_type": "markdown",
   "metadata": {},
   "source": [
    "# Replace with Mean"
   ]
  },
  {
   "cell_type": "code",
   "execution_count": 8,
   "metadata": {},
   "outputs": [
    {
     "name": "stdout",
     "output_type": "stream",
     "text": [
      "          0      1     2          3           4     5      6   7  8\n",
      "0  6.000000  148.0  72.0  35.000000  105.659898  33.6  0.627   5  1\n",
      "1  1.000000   85.0  66.0  29.000000  105.659898  26.6  0.351  31  0\n",
      "2  8.000000  183.0  64.0  25.876155  105.659898  23.3  0.672  32  1\n",
      "3  1.000000   89.0  66.0  23.000000   94.000000  28.1  0.167  21  0\n",
      "4  4.165906  137.0   4.0  35.000000  168.000000  43.1  2.288  33  1\n",
      "                0           1           2           3           4           5  \\\n",
      "count  768.000000  768.000000  768.000000  768.000000  768.000000  768.000000   \n",
      "mean     4.165906   99.310616   55.706685   25.876155  105.659898   29.865654   \n",
      "std      2.862543   54.935441   29.189172   10.880931   83.651512   10.609145   \n",
      "min      1.000000    1.000000    1.000000    1.000000    1.000000    2.000000   \n",
      "25%      2.000000   73.000000   45.500000   22.000000   66.750000   25.575000   \n",
      "50%      4.000000  113.000000   66.000000   25.876155  105.659898   31.600000   \n",
      "75%      6.000000  138.000000   76.000000   32.000000  105.659898   35.925000   \n",
      "max     17.000000  199.000000  122.000000   99.000000  846.000000   67.100000   \n",
      "\n",
      "                6           7           8  \n",
      "count  768.000000  768.000000  768.000000  \n",
      "mean     0.490439   30.990885    0.348958  \n",
      "std      0.346050   13.281475    0.476951  \n",
      "min      0.100000    3.000000    0.000000  \n",
      "25%      0.253750   23.000000    0.000000  \n",
      "50%      0.382500   28.000000    0.000000  \n",
      "75%      0.647500   38.250000    1.000000  \n",
      "max      2.420000   81.000000    1.000000  \n"
     ]
    },
    {
     "data": {
      "text/plain": [
       "0    0\n",
       "1    0\n",
       "2    0\n",
       "3    0\n",
       "4    0\n",
       "5    0\n",
       "6    0\n",
       "7    0\n",
       "8    0\n",
       "dtype: int64"
      ]
     },
     "execution_count": 8,
     "metadata": {},
     "output_type": "execute_result"
    }
   ],
   "source": [
    "data3 = data1.fillna(data1.mean())\n",
    "print(data3.head())\n",
    "print(data3.describe())\n",
    "data3.isnull().sum()"
   ]
  },
  {
   "cell_type": "markdown",
   "metadata": {},
   "source": [
    "# Replace with Median"
   ]
  },
  {
   "cell_type": "code",
   "execution_count": 9,
   "metadata": {},
   "outputs": [
    {
     "name": "stdout",
     "output_type": "stream",
     "text": [
      "     0      1     2     3      4     5      6   7  8\n",
      "0  6.0  148.0  72.0  35.0   71.0  33.6  0.627   5  1\n",
      "1  1.0   85.0  66.0  29.0   71.0  26.6  0.351  31  0\n",
      "2  8.0  183.0  64.0  27.0   71.0  23.3  0.672  32  1\n",
      "3  1.0   89.0  66.0  23.0   94.0  28.1  0.167  21  0\n",
      "4  3.0  137.0   4.0  35.0  168.0  43.1  2.288  33  1\n",
      "                0           1           2           3           4           5  \\\n",
      "count  768.000000  768.000000  768.000000  768.000000  768.000000  768.000000   \n",
      "mean     3.997396   99.399740   56.175781   26.208333   88.781250   29.896224   \n",
      "std      2.891789   54.946487   29.268110   10.893024   85.428861   10.612180   \n",
      "min      1.000000    1.000000    1.000000    1.000000    1.000000    2.000000   \n",
      "25%      2.000000   73.000000   45.500000   22.000000   66.750000   25.575000   \n",
      "50%      3.000000  113.000000   66.000000   27.000000   71.000000   32.000000   \n",
      "75%      6.000000  138.000000   76.000000   32.000000   73.250000   35.925000   \n",
      "max     17.000000  199.000000  122.000000   99.000000  846.000000   67.100000   \n",
      "\n",
      "                6           7           8  \n",
      "count  768.000000  768.000000  768.000000  \n",
      "mean     0.490439   30.990885    0.348958  \n",
      "std      0.346050   13.281475    0.476951  \n",
      "min      0.100000    3.000000    0.000000  \n",
      "25%      0.253750   23.000000    0.000000  \n",
      "50%      0.382500   28.000000    0.000000  \n",
      "75%      0.647500   38.250000    1.000000  \n",
      "max      2.420000   81.000000    1.000000  \n"
     ]
    },
    {
     "data": {
      "text/plain": [
       "0    0\n",
       "1    0\n",
       "2    0\n",
       "3    0\n",
       "4    0\n",
       "5    0\n",
       "6    0\n",
       "7    0\n",
       "8    0\n",
       "dtype: int64"
      ]
     },
     "execution_count": 9,
     "metadata": {},
     "output_type": "execute_result"
    }
   ],
   "source": [
    "data4 = data1.fillna(data1.median())\n",
    "print(data4.head())\n",
    "print(data4.describe())\n",
    "data4.isnull().sum()"
   ]
  },
  {
   "cell_type": "markdown",
   "metadata": {},
   "source": [
    "# Rescaling the Data"
   ]
  },
  {
   "cell_type": "code",
   "execution_count": 10,
   "metadata": {},
   "outputs": [
    {
     "name": "stderr",
     "output_type": "stream",
     "text": [
      "C:\\Users\\sawan\\Anaconda3\\lib\\site-packages\\ipykernel_launcher.py:2: DataConversionWarning: Data with input dtype int64, float64 were all converted to float64 by the scale function.\n",
      "  \n"
     ]
    },
    {
     "data": {
      "text/html": [
       "<div>\n",
       "<style>\n",
       "    .dataframe thead tr:only-child th {\n",
       "        text-align: right;\n",
       "    }\n",
       "\n",
       "    .dataframe thead th {\n",
       "        text-align: left;\n",
       "    }\n",
       "\n",
       "    .dataframe tbody tr th {\n",
       "        vertical-align: top;\n",
       "    }\n",
       "</style>\n",
       "<table border=\"1\" class=\"dataframe\">\n",
       "  <thead>\n",
       "    <tr style=\"text-align: right;\">\n",
       "      <th></th>\n",
       "      <th>0</th>\n",
       "      <th>1</th>\n",
       "      <th>2</th>\n",
       "      <th>3</th>\n",
       "      <th>4</th>\n",
       "      <th>5</th>\n",
       "      <th>6</th>\n",
       "      <th>7</th>\n",
       "      <th>8</th>\n",
       "    </tr>\n",
       "  </thead>\n",
       "  <tbody>\n",
       "    <tr>\n",
       "      <th>count</th>\n",
       "      <td>7.680000e+02</td>\n",
       "      <td>7.680000e+02</td>\n",
       "      <td>7.680000e+02</td>\n",
       "      <td>7.680000e+02</td>\n",
       "      <td>7.680000e+02</td>\n",
       "      <td>7.680000e+02</td>\n",
       "      <td>7.680000e+02</td>\n",
       "      <td>7.680000e+02</td>\n",
       "      <td>7.680000e+02</td>\n",
       "    </tr>\n",
       "    <tr>\n",
       "      <th>mean</th>\n",
       "      <td>-2.197316e-17</td>\n",
       "      <td>7.175611e-17</td>\n",
       "      <td>2.457525e-17</td>\n",
       "      <td>1.300320e-16</td>\n",
       "      <td>2.349105e-17</td>\n",
       "      <td>-4.336809e-17</td>\n",
       "      <td>1.153591e-16</td>\n",
       "      <td>-1.136244e-16</td>\n",
       "      <td>2.408374e-16</td>\n",
       "    </tr>\n",
       "    <tr>\n",
       "      <th>std</th>\n",
       "      <td>1.000652e+00</td>\n",
       "      <td>1.000652e+00</td>\n",
       "      <td>1.000652e+00</td>\n",
       "      <td>1.000652e+00</td>\n",
       "      <td>1.000652e+00</td>\n",
       "      <td>1.000652e+00</td>\n",
       "      <td>1.000652e+00</td>\n",
       "      <td>1.000652e+00</td>\n",
       "      <td>1.000652e+00</td>\n",
       "    </tr>\n",
       "    <tr>\n",
       "      <th>min</th>\n",
       "      <td>-1.037195e+00</td>\n",
       "      <td>-1.791996e+00</td>\n",
       "      <td>-1.886413e+00</td>\n",
       "      <td>-2.315680e+00</td>\n",
       "      <td>-1.028206e+00</td>\n",
       "      <td>-2.630412e+00</td>\n",
       "      <td>-1.129008e+00</td>\n",
       "      <td>-2.108887e+00</td>\n",
       "      <td>-7.321202e-01</td>\n",
       "    </tr>\n",
       "    <tr>\n",
       "      <th>25%</th>\n",
       "      <td>-6.911629e-01</td>\n",
       "      <td>-4.807758e-01</td>\n",
       "      <td>-3.649958e-01</td>\n",
       "      <td>-3.865846e-01</td>\n",
       "      <td>-2.580581e-01</td>\n",
       "      <td>-4.074601e-01</td>\n",
       "      <td>-6.844186e-01</td>\n",
       "      <td>-6.020486e-01</td>\n",
       "      <td>-7.321202e-01</td>\n",
       "    </tr>\n",
       "    <tr>\n",
       "      <th>50%</th>\n",
       "      <td>-3.451309e-01</td>\n",
       "      <td>2.476796e-01</td>\n",
       "      <td>3.358816e-01</td>\n",
       "      <td>7.272384e-02</td>\n",
       "      <td>-2.082767e-01</td>\n",
       "      <td>1.983708e-01</td>\n",
       "      <td>-3.121201e-01</td>\n",
       "      <td>-2.253390e-01</td>\n",
       "      <td>-7.321202e-01</td>\n",
       "    </tr>\n",
       "    <tr>\n",
       "      <th>75%</th>\n",
       "      <td>6.929652e-01</td>\n",
       "      <td>7.029642e-01</td>\n",
       "      <td>6.777731e-01</td>\n",
       "      <td>5.320323e-01</td>\n",
       "      <td>-1.819218e-01</td>\n",
       "      <td>5.684699e-01</td>\n",
       "      <td>4.541643e-01</td>\n",
       "      <td>5.469156e-01</td>\n",
       "      <td>1.365896e+00</td>\n",
       "    </tr>\n",
       "    <tr>\n",
       "      <th>max</th>\n",
       "      <td>4.499318e+00</td>\n",
       "      <td>1.813859e+00</td>\n",
       "      <td>2.250474e+00</td>\n",
       "      <td>6.686766e+00</td>\n",
       "      <td>8.869511e+00</td>\n",
       "      <td>3.508047e+00</td>\n",
       "      <td>5.579595e+00</td>\n",
       "      <td>3.767782e+00</td>\n",
       "      <td>1.365896e+00</td>\n",
       "    </tr>\n",
       "  </tbody>\n",
       "</table>\n",
       "</div>"
      ],
      "text/plain": [
       "                  0             1             2             3             4  \\\n",
       "count  7.680000e+02  7.680000e+02  7.680000e+02  7.680000e+02  7.680000e+02   \n",
       "mean  -2.197316e-17  7.175611e-17  2.457525e-17  1.300320e-16  2.349105e-17   \n",
       "std    1.000652e+00  1.000652e+00  1.000652e+00  1.000652e+00  1.000652e+00   \n",
       "min   -1.037195e+00 -1.791996e+00 -1.886413e+00 -2.315680e+00 -1.028206e+00   \n",
       "25%   -6.911629e-01 -4.807758e-01 -3.649958e-01 -3.865846e-01 -2.580581e-01   \n",
       "50%   -3.451309e-01  2.476796e-01  3.358816e-01  7.272384e-02 -2.082767e-01   \n",
       "75%    6.929652e-01  7.029642e-01  6.777731e-01  5.320323e-01 -1.819218e-01   \n",
       "max    4.499318e+00  1.813859e+00  2.250474e+00  6.686766e+00  8.869511e+00   \n",
       "\n",
       "                  5             6             7             8  \n",
       "count  7.680000e+02  7.680000e+02  7.680000e+02  7.680000e+02  \n",
       "mean  -4.336809e-17  1.153591e-16 -1.136244e-16  2.408374e-16  \n",
       "std    1.000652e+00  1.000652e+00  1.000652e+00  1.000652e+00  \n",
       "min   -2.630412e+00 -1.129008e+00 -2.108887e+00 -7.321202e-01  \n",
       "25%   -4.074601e-01 -6.844186e-01 -6.020486e-01 -7.321202e-01  \n",
       "50%    1.983708e-01 -3.121201e-01 -2.253390e-01 -7.321202e-01  \n",
       "75%    5.684699e-01  4.541643e-01  5.469156e-01  1.365896e+00  \n",
       "max    3.508047e+00  5.579595e+00  3.767782e+00  1.365896e+00  "
      ]
     },
     "execution_count": 10,
     "metadata": {},
     "output_type": "execute_result"
    }
   ],
   "source": [
    "from sklearn import preprocessing\n",
    "data5 = pd.DataFrame(preprocessing.scale(data4))\n",
    "data5.describe()"
   ]
  },
  {
   "cell_type": "code",
   "execution_count": 11,
   "metadata": {},
   "outputs": [
    {
     "data": {
      "text/html": [
       "<div>\n",
       "<style>\n",
       "    .dataframe thead tr:only-child th {\n",
       "        text-align: right;\n",
       "    }\n",
       "\n",
       "    .dataframe thead th {\n",
       "        text-align: left;\n",
       "    }\n",
       "\n",
       "    .dataframe tbody tr th {\n",
       "        vertical-align: top;\n",
       "    }\n",
       "</style>\n",
       "<table border=\"1\" class=\"dataframe\">\n",
       "  <thead>\n",
       "    <tr style=\"text-align: right;\">\n",
       "      <th></th>\n",
       "      <th>0</th>\n",
       "      <th>1</th>\n",
       "      <th>2</th>\n",
       "      <th>3</th>\n",
       "      <th>4</th>\n",
       "      <th>5</th>\n",
       "      <th>6</th>\n",
       "      <th>7</th>\n",
       "      <th>8</th>\n",
       "    </tr>\n",
       "  </thead>\n",
       "  <tbody>\n",
       "    <tr>\n",
       "      <th>count</th>\n",
       "      <td>768.000000</td>\n",
       "      <td>768.000000</td>\n",
       "      <td>768.000000</td>\n",
       "      <td>768.000000</td>\n",
       "      <td>768.000000</td>\n",
       "      <td>768.000000</td>\n",
       "      <td>768.000000</td>\n",
       "      <td>768.000000</td>\n",
       "      <td>768.000000</td>\n",
       "    </tr>\n",
       "    <tr>\n",
       "      <th>mean</th>\n",
       "      <td>0.025970</td>\n",
       "      <td>0.570369</td>\n",
       "      <td>0.361627</td>\n",
       "      <td>0.170779</td>\n",
       "      <td>0.483467</td>\n",
       "      <td>0.197405</td>\n",
       "      <td>0.003218</td>\n",
       "      <td>0.203855</td>\n",
       "      <td>0.001996</td>\n",
       "    </tr>\n",
       "    <tr>\n",
       "      <th>std</th>\n",
       "      <td>0.020617</td>\n",
       "      <td>0.273321</td>\n",
       "      <td>0.212283</td>\n",
       "      <td>0.088256</td>\n",
       "      <td>0.229912</td>\n",
       "      <td>0.093099</td>\n",
       "      <td>0.002538</td>\n",
       "      <td>0.102570</td>\n",
       "      <td>0.002973</td>\n",
       "    </tr>\n",
       "    <tr>\n",
       "      <th>min</th>\n",
       "      <td>0.001150</td>\n",
       "      <td>0.004257</td>\n",
       "      <td>0.006903</td>\n",
       "      <td>0.003480</td>\n",
       "      <td>0.005088</td>\n",
       "      <td>0.003567</td>\n",
       "      <td>0.000272</td>\n",
       "      <td>0.008854</td>\n",
       "      <td>0.000000</td>\n",
       "    </tr>\n",
       "    <tr>\n",
       "      <th>25%</th>\n",
       "      <td>0.011333</td>\n",
       "      <td>0.377016</td>\n",
       "      <td>0.161191</td>\n",
       "      <td>0.124707</td>\n",
       "      <td>0.358751</td>\n",
       "      <td>0.149241</td>\n",
       "      <td>0.001542</td>\n",
       "      <td>0.146282</td>\n",
       "      <td>0.000000</td>\n",
       "    </tr>\n",
       "    <tr>\n",
       "      <th>50%</th>\n",
       "      <td>0.020534</td>\n",
       "      <td>0.675582</td>\n",
       "      <td>0.406990</td>\n",
       "      <td>0.164328</td>\n",
       "      <td>0.473700</td>\n",
       "      <td>0.194613</td>\n",
       "      <td>0.002438</td>\n",
       "      <td>0.190496</td>\n",
       "      <td>0.000000</td>\n",
       "    </tr>\n",
       "    <tr>\n",
       "      <th>75%</th>\n",
       "      <td>0.033335</td>\n",
       "      <td>0.776467</td>\n",
       "      <td>0.502109</td>\n",
       "      <td>0.217313</td>\n",
       "      <td>0.633883</td>\n",
       "      <td>0.246186</td>\n",
       "      <td>0.004035</td>\n",
       "      <td>0.255946</td>\n",
       "      <td>0.004707</td>\n",
       "    </tr>\n",
       "    <tr>\n",
       "      <th>max</th>\n",
       "      <td>0.141798</td>\n",
       "      <td>0.957836</td>\n",
       "      <td>0.940463</td>\n",
       "      <td>0.745664</td>\n",
       "      <td>0.977407</td>\n",
       "      <td>0.615963</td>\n",
       "      <td>0.019931</td>\n",
       "      <td>0.618755</td>\n",
       "      <td>0.016375</td>\n",
       "    </tr>\n",
       "  </tbody>\n",
       "</table>\n",
       "</div>"
      ],
      "text/plain": [
       "                0           1           2           3           4           5  \\\n",
       "count  768.000000  768.000000  768.000000  768.000000  768.000000  768.000000   \n",
       "mean     0.025970    0.570369    0.361627    0.170779    0.483467    0.197405   \n",
       "std      0.020617    0.273321    0.212283    0.088256    0.229912    0.093099   \n",
       "min      0.001150    0.004257    0.006903    0.003480    0.005088    0.003567   \n",
       "25%      0.011333    0.377016    0.161191    0.124707    0.358751    0.149241   \n",
       "50%      0.020534    0.675582    0.406990    0.164328    0.473700    0.194613   \n",
       "75%      0.033335    0.776467    0.502109    0.217313    0.633883    0.246186   \n",
       "max      0.141798    0.957836    0.940463    0.745664    0.977407    0.615963   \n",
       "\n",
       "                6           7           8  \n",
       "count  768.000000  768.000000  768.000000  \n",
       "mean     0.003218    0.203855    0.001996  \n",
       "std      0.002538    0.102570    0.002973  \n",
       "min      0.000272    0.008854    0.000000  \n",
       "25%      0.001542    0.146282    0.000000  \n",
       "50%      0.002438    0.190496    0.000000  \n",
       "75%      0.004035    0.255946    0.004707  \n",
       "max      0.019931    0.618755    0.016375  "
      ]
     },
     "execution_count": 11,
     "metadata": {},
     "output_type": "execute_result"
    }
   ],
   "source": [
    "data6 = pd.DataFrame(preprocessing.normalize(data4))\n",
    "data6.describe()"
   ]
  },
  {
   "cell_type": "markdown",
   "metadata": {},
   "source": [
    "# Dealing with Categorical Data"
   ]
  },
  {
   "cell_type": "code",
   "execution_count": 18,
   "metadata": {},
   "outputs": [
    {
     "data": {
      "text/plain": [
       "array([[1., 1., 1.],\n",
       "       [1., 2., 0.],\n",
       "       [0., 0., 1.]])"
      ]
     },
     "execution_count": 18,
     "metadata": {},
     "output_type": "execute_result"
    }
   ],
   "source": [
    "enc = preprocessing.OrdinalEncoder()\n",
    "\n",
    "cdata = pd.DataFrame([['male','cricket','tea'],['male','football','coffee'],['female','chess','tea']])\n",
    "enc.fit(cdata)\n",
    "\n",
    "enc.transform(cdata)"
   ]
  },
  {
   "cell_type": "markdown",
   "metadata": {},
   "source": [
    "# Binarization"
   ]
  },
  {
   "cell_type": "code",
   "execution_count": 28,
   "metadata": {},
   "outputs": [
    {
     "name": "stdout",
     "output_type": "stream",
     "text": [
      "[[2.89361128 6.22570829 3.61149822 0.52728185]\n",
      " [6.34782757 7.67594168 8.67894186 2.83977103]\n",
      " [5.07813697 6.79886352 7.47981802 8.40668397]]\n"
     ]
    },
    {
     "data": {
      "text/plain": [
       "array([[0., 1., 0., 0.],\n",
       "       [1., 1., 1., 0.],\n",
       "       [1., 1., 1., 1.]])"
      ]
     },
     "execution_count": 28,
     "metadata": {},
     "output_type": "execute_result"
    }
   ],
   "source": [
    "import numpy as np\n",
    "\n",
    "cdata2 = np.random.rand(3,4)*10\n",
    "print(cdata2)\n",
    "\n",
    "binarizer = preprocessing.Binarizer(threshold=5)\n",
    "binarizer.transform(cdata2)"
   ]
  },
  {
   "cell_type": "markdown",
   "metadata": {},
   "source": [
    "# Discretization"
   ]
  },
  {
   "cell_type": "code",
   "execution_count": null,
   "metadata": {
    "collapsed": true
   },
   "outputs": [],
   "source": [
    "# go through the sklearn.preprocessing docs for more information."
   ]
  },
  {
   "cell_type": "markdown",
   "metadata": {},
   "source": [
    "categorical data preprocessing\n",
    "\n",
    "data to be taken:\n",
    "    https://www.datacamp.com/community/tutorials/categorical-data"
   ]
  },
  {
   "cell_type": "markdown",
   "metadata": {},
   "source": [
    "# Exercise\n",
    "### e1. Load the iris.csv file and perform following steps to fill missing values.\n",
    "\n",
    "## 1. replace with highest freq data of that column\n",
    "## 2. change to categorical\n",
    "## 3. replace with classwise mean, median"
   ]
  },
  {
   "cell_type": "markdown",
   "metadata": {
    "collapsed": true
   },
   "source": [
    "## e2. Plot (using suitable plot) the mean, std, min, max for each preprocessing approach to compare the effect of preprocessing approach.\n",
    "##### [use the example file ]"
   ]
  },
  {
   "cell_type": "code",
   "execution_count": null,
   "metadata": {
    "collapsed": true
   },
   "outputs": [],
   "source": []
  }
 ],
 "metadata": {
  "kernelspec": {
   "display_name": "Python 3",
   "language": "python",
   "name": "python3"
  },
  "language_info": {
   "codemirror_mode": {
    "name": "ipython",
    "version": 3
   },
   "file_extension": ".py",
   "mimetype": "text/x-python",
   "name": "python",
   "nbconvert_exporter": "python",
   "pygments_lexer": "ipython3",
   "version": "3.6.2"
  }
 },
 "nbformat": 4,
 "nbformat_minor": 2
}
