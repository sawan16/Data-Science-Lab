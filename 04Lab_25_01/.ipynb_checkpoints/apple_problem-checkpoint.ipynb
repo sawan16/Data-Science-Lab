{
 "cells": [
  {
   "cell_type": "code",
   "execution_count": 8,
   "metadata": {},
   "outputs": [
    {
     "name": "stdout",
     "output_type": "stream",
     "text": [
      "[{'Website': 1, 'Apple.com': 1}, 'Company']\n",
      "---------------------\n",
      "[{'Apple': 1, 'Inc.': 1, 'formerly': 1, 'Computer': 1, 'is': 1, 'an': 1, 'American': 1, 'multinational': 1, 'corporation': 1, 'headquartered': 1, 'in': 1, 'Cupertino': 1, 'California': 1, '2': 1, 'that': 1, 'designs': 1, 'develops': 1, 'and': 1, 'sells': 1, 'consumer': 1, 'electronics': 1, 'computer': 1, 'software': 1, 'personal': 1, 'computers': 1, 'Its': 1, 'best-known': 1, 'hardware': 1, 'products': 1, 'are': 1, 'the': 1, 'Mac': 1, 'line': 1, 'of': 1, 'iPod': 1, 'music': 1, 'player': 1, 'iPhone': 1, 'smartphone': 1, 'iPad': 1, 'tablet': 1, 'includes': 1, 'OS': 1, 'X': 1, 'iOS': 1, 'operating': 1, 'systems': 1, 'iTunes': 1, 'media': 1, 'browser': 1, 'Safari': 1, 'web': 1, 'iLife': 1, 'iWork': 1, 'creativity': 1, 'productivity': 1, 'suites': 1}, 'Company']\n",
      "---------------------\n",
      "[{'The': 1, 'company': 1, 'was': 1, 'founded': 1, 'on': 1, 'April': 1, '1': 1, '1976': 1, 'and': 1, 'incorporated': 1, 'as': 1, 'Apple': 1, 'Computer': 1, 'Inc.': 1, 'January': 1, '3': 1, '1977': 1, '6': 1, 'word': 1, '``': 1, \"''\": 1, 'removed': 1, 'from': 1, 'its': 1, 'name': 1, '9': 1, '2007': 1, 'the': 1, 'same': 1, 'day': 1, 'Steve': 1, 'Jobs': 1, 'introduced': 1, 'iPhone': 1, 'reflecting': 1, 'shifted': 1, 'focus': 1, 'towards': 1, 'consumer': 1, 'electronics': 1, '7': 1, '8': 1}, 'Company']\n",
      "---------------------\n",
      "[{'Apple': 1, 'is': 1, 'the': 1, 'world': 1, \"'s\": 1, 'second-largest': 1, 'information': 1, 'technology': 1, 'company': 1, 'by': 1, 'revenue': 1, 'after': 1, 'Samsung': 1, 'Electronics': 1, 'and': 1, 'third-largest': 1, 'mobile': 1, 'phone': 1, 'maker': 1, 'Nokia': 1, '10': 1, 'Fortune': 1, 'magazine': 1, 'named': 1, 'most': 1, 'admired': 1, 'in': 1, 'United': 1, 'States': 1, '2008': 1, 'from': 1, 'to': 1, '2012': 1, '11': 1, '12': 1, '13': 1, '14': 1, '15': 1, 'However': 1, 'has': 1, 'received': 1, 'criticism': 1, 'for': 1, 'its': 1, 'contractors': 1, 'labor': 1, 'practices': 1, 'own': 1, 'environmental': 1, 'business': 1, '16': 1, '17': 1, '18': 1}, 'Company']\n",
      "---------------------\n",
      "[{'As': 1, 'of': 1, 'May': 1, '2013': 1, 'Apple': 1, 'maintains': 1, '408': 1, 'retail': 1, 'stores': 1, 'in': 1, 'fourteen': 1, 'countries': 1, '19': 1, '20': 1, 'as': 1, 'well': 1, 'the': 1, 'online': 1, 'Store': 1, 'and': 1, 'iTunes': 1, '21': 1, 'latter': 1, 'which': 1, 'is': 1, 'world': 1, \"'s\": 1, 'largest': 1, 'music': 1, 'retailer': 1, '22': 1, 'publicly': 1, 'traded': 1, 'corporation': 1, 'by': 1, 'market': 1, 'capitalization': 1, 'with': 1, 'an': 1, 'estimated': 1, 'value': 1, 'US': 1, '$': 1, '415': 1, 'billion': 1, 'March': 1, 'Sept': 1, '29': 1, '2012': 1, 'company': 1, 'had': 1, '72,800': 1, 'permanent': 1, 'full-time': 1, 'employees': 1, '3,300': 1, 'temporary': 1, 'worldwide': 1, '4': 1, 'Its': 1, 'annual': 1, 'revenue': 1, 'totalled': 1, '156': 1, 'In': 1, 'entered': 1, 'top': 1, 'ten': 1, 'Fortune': 1, '500': 1, 'list': 1, 'companies': 1, 'for': 1, 'first': 1, 'time': 1, 'rising': 1, '11': 1, 'places': 1, 'above': 1, 'its': 1, 'ranking': 1, 'to': 1, 'take': 1, 'sixth': 1, 'position': 1, '23': 1}, 'Company']\n",
      "---------------------\n",
      "[{'This': 1, 'article': 1, 'is': 1, 'about': 1, 'the': 1, 'fruit': 1, 'For': 1, 'technology': 1, 'company': 1, 'see': 1, 'Apple': 1, 'Inc..': 1, 'other': 1, 'uses': 1, 'disambiguation': 1}, 'Fruit']\n",
      "---------------------\n",
      "[{'``': 1, 'Apple': 1, 'tree': 1, \"''\": 1, 'redirects': 1, 'here': 1, 'For': 1, 'other': 1, 'uses': 1, 'see': 1, 'disambiguation': 1}, 'Fruit']\n",
      "---------------------\n",
      "[{'Page': 1, 'semi-protectedThis': 1, 'is': 1, 'a': 1, 'good': 1, 'article': 1, 'Click': 1, 'here': 1, 'for': 1, 'more': 1, 'information': 1}, 'Fruit']\n",
      "---------------------\n",
      "[{'The': 1, 'apple': 1, 'is': 1, 'the': 1, 'pomaceous': 1, 'fruit': 1, 'of': 1, 'tree': 1, 'species': 1, 'Malus': 1, 'domestica': 1, 'in': 1, 'rose': 1, 'family': 1, 'Rosaceae': 1, 'It': 1, 'one': 1, 'most': 1, 'widely': 1, 'cultivated': 1, 'fruits': 1, 'and': 1, 'known': 1, 'many': 1, 'members': 1, 'genus': 1, 'that': 1, 'are': 1, 'used': 1, 'by': 1, 'humans': 1, 'Apples': 1, 'grow': 1, 'on': 1, 'small': 1, 'deciduous': 1, 'trees': 1, 'originated': 1, 'Central': 1, 'Asia': 1, 'where': 1, 'its': 1, 'wild': 1, 'ancestor': 1, 'sieversii': 1, 'still': 1, 'found': 1, 'today': 1, 'have': 1, 'been': 1, 'grown': 1, 'for': 1, 'thousands': 1, 'years': 1, 'Europe': 1, 'were': 1, 'brought': 1, 'to': 1, 'North': 1, 'America': 1, 'European': 1, 'colonists': 1, 'present': 1, 'mythology': 1, 'religions': 1, 'cultures': 1, 'including': 1, 'Norse': 1, 'Greek': 1, 'Christian': 1, 'traditions': 1, 'In': 1, '2010': 1, \"'s\": 1, 'genome': 1, 'was': 1, 'decoded': 1, 'leading': 1, 'new': 1, 'understandings': 1, 'disease': 1, 'control': 1, 'selective': 1, 'breeding': 1, 'production': 1}, 'Fruit']\n",
      "---------------------\n",
      "[{'There': 1, 'are': 1, 'more': 1, 'than': 1, '7,500': 1, 'known': 1, 'cultivars': 1, 'of': 1, 'apples': 1, 'resulting': 1, 'in': 1, 'a': 1, 'range': 1, 'desired': 1, 'characteristics': 1, 'Different': 1, 'bred': 1, 'for': 1, 'various': 1, 'tastes': 1, 'and': 1, 'uses': 1, 'including': 1, 'cooking': 1, 'fresh': 1, 'eating': 1, 'cider': 1, 'production': 1, 'Domestic': 1, 'generally': 1, 'propagated': 1, 'by': 1, 'grafting': 1, 'although': 1, 'wild': 1, 'grow': 1, 'readily': 1, 'from': 1, 'seed': 1, 'Trees': 1, 'prone': 1, 'to': 1, 'number': 1, 'fungal': 1, 'bacterial': 1, 'pest': 1, 'problems': 1, 'which': 1, 'can': 1, 'be': 1, 'controlled': 1, 'organic': 1, 'non-organic': 1, 'means': 1}, 'Fruit']\n",
      "---------------------\n",
      "Apple company data count: 168\n",
      "Apple Fruit data count: 65\n"
     ]
    }
   ],
   "source": [
    "import nltk as nl\n",
    "import random\n",
    "\n",
    "# reading data\n",
    "comp   = open('apple_comp_data.txt',encoding='UTF8')\n",
    "fruit  = open('apple_fruit_data.txt',encoding='UTF8')\n",
    "\n",
    "\n",
    "#preprocessing  functions\n",
    "\n",
    "# removal of stop words and digits\n",
    "def remove_stop_words(w_token):\n",
    "    stop_words = set(nl.corpus.stopwords.words('english'))\n",
    "    filtered_words = []\n",
    "    ps = nl.stem.PorterStemmer()\n",
    "    for tmp_word in w_token:\n",
    "        if tmp_word in stop_words and (ord(tmp_word[0])>48 and ord(tmp_word[0])<57):\n",
    "            print()\n",
    "        else:\n",
    "            filtered_words.append(tmp_word)\n",
    "    return filtered_words\n",
    "    \n",
    "# punctuation removal\n",
    "def process_sentence(s):\n",
    "    w_token = nl.tokenize.word_tokenize(s) \n",
    "   \n",
    "    punctuations = [',','?','.',']','[','}','{','(',')','!','?',':',';','\"','\\'']\n",
    "    t2 = []\n",
    "    for w in w_token:\n",
    "        if w not in punctuations:\n",
    "            t2.append(w)\n",
    "    t3 = remove_stop_words(t2)\n",
    "    return {word: 1 for word in t3}\n",
    "    \n",
    "\n",
    "comp_data_array = []\n",
    "\n",
    "for data in comp:\n",
    "    comp_data_array.append([process_sentence(data),'Company'])\n",
    "        \n",
    "i = 0\n",
    "while i<5 :\n",
    "    print(comp_data_array[i])\n",
    "    i+=1\n",
    "    print('---------------------')\n",
    "    \n",
    "    \n",
    "fruit_data_array =[]\n",
    "\n",
    "for data in fruit:\n",
    "    fruit_data_array.append([process_sentence(data),'Fruit'])\n",
    "\n",
    "i = 0\n",
    "while i<5 :\n",
    "    print(fruit_data_array[i])\n",
    "    i+=1\n",
    "    print('---------------------')\n",
    "    \n",
    "\n",
    "print('Apple company data count:',len(comp_data_array))\n",
    "print('Apple Fruit data count:',len(fruit_data_array))\n"
   ]
  },
  {
   "cell_type": "code",
   "execution_count": 20,
   "metadata": {},
   "outputs": [
    {
     "name": "stdout",
     "output_type": "stream",
     "text": [
      "---------------\n",
      "[{'Because': 1, 'apples': 1, 'do': 1, 'not': 1, 'breed': 1, 'true': 1, 'when': 1, 'planted': 1, 'as': 1, 'seeds': 1, 'grafting': 1, 'is': 1, 'generally': 1, 'used': 1, 'to': 1, 'produce': 1, 'new': 1, 'apple': 1, 'trees': 1, 'The': 1, 'rootstock': 1, 'for': 1, 'the': 1, 'bottom': 1, 'of': 1, 'graft': 1, 'can': 1, 'be': 1, 'selected': 1, 'a': 1, 'large': 1, 'variety': 1, 'sizes': 1, 'well': 1, 'changing': 1, 'winter': 1, 'hardiness': 1, 'insect': 1, 'and': 1, 'disease': 1, 'resistance': 1, 'soil': 1, 'preference': 1, 'resulting': 1, 'tree': 1, 'Dwarf': 1, 'rootstocks': 1, 'very': 1, 'small': 1, 'less': 1, 'than': 1, '10': 1, 'feet': 1, '3.0': 1, 'm': 1, 'high': 1, 'at': 1, 'maturity': 1, 'which': 1, 'bear': 1, 'fruit': 1, 'earlier': 1, 'in': 1, 'their': 1, 'life': 1, 'cycle': 1, 'full': 1, 'size': 1, '44': 1, 'traced': 1, 'far': 1, 'back': 1, '300': 1, 'BC': 1, 'area': 1, 'Persia': 1, 'Asia': 1, 'Minor': 1, 'Alexander': 1, 'Great': 1, 'sent': 1, 'samples': 1, 'dwarf': 1, 'Aristotle': 1, \"'s\": 1, 'Lyceum': 1, 'became': 1, 'common': 1, 'by': 1, '15th': 1, 'century': 1, 'later': 1, 'went': 1, 'through': 1, 'several': 1, 'cycles': 1, 'popularity': 1, 'decline': 1, 'throughout': 1, 'world': 1, '45': 1, 'majority': 1, 'today': 1, 'control': 1, 'were': 1, 'developed': 1, 'England': 1, 'early': 1, '1900s': 1, 'East': 1, 'Malling': 1, 'Research': 1, 'Station': 1, 'conducted': 1, 'extensive': 1, 'research': 1, 'into': 1, 'are': 1, 'given': 1, 'an': 1, '``': 1, 'M': 1, \"''\": 1, 'prefix': 1, 'designate': 1, 'origin': 1, 'Rootstocks': 1, 'marked': 1, 'with': 1, 'MM': 1, 'Malling-series': 1, 'varieties': 1, 'crossed': 1, 'Northern': 1, 'Spy': 1, 'Merton': 1, '46': 1}, 'Fruit']\n",
      "---------------------\n",
      "---------------\n",
      "[{'Atalanta': 1, 'also': 1, 'of': 1, 'Greek': 1, 'mythology': 1, 'raced': 1, 'all': 1, 'her': 1, 'suitors': 1, 'in': 1, 'an': 1, 'attempt': 1, 'to': 1, 'avoid': 1, 'marriage': 1, 'She': 1, 'outran': 1, 'but': 1, 'Hippomenes': 1, 'known': 1, 'as': 1, 'Melanion': 1, 'a': 1, 'name': 1, 'possibly': 1, 'derived': 1, 'from': 1, 'melon': 1, 'the': 1, 'word': 1, 'for': 1, 'both': 1, '``': 1, 'apple': 1, \"''\": 1, 'and': 1, 'fruit': 1, 'general': 1, '27': 1, 'who': 1, 'defeated': 1, 'by': 1, 'cunning': 1, 'not': 1, 'speed': 1, 'knew': 1, 'that': 1, 'he': 1, 'could': 1, 'win': 1, 'fair': 1, 'race': 1, 'so': 1, 'used': 1, 'three': 1, 'golden': 1, 'apples': 1, 'gifts': 1, 'Aphrodite': 1, 'goddess': 1, 'love': 1, 'distract': 1, 'It': 1, 'took': 1, 'his': 1, 'was': 1, 'finally': 1, 'successful': 1, 'winning': 1, \"'s\": 1, 'hand': 1, '26': 1}, 'Fruit']\n",
      "---------------------\n",
      "---------------\n",
      "[{'Most': 1, 'new': 1, 'apple': 1, 'cultivars': 1, 'originate': 1, 'as': 1, 'seedlings': 1, 'which': 1, 'either': 1, 'arise': 1, 'by': 1, 'chance': 1, 'or': 1, 'are': 1, 'bred': 1, 'deliberately': 1, 'crossing': 1, 'with': 1, 'promising': 1, 'characteristics': 1, '47': 1, 'The': 1, 'words': 1, \"'seedling\": 1, \"'pippin\": 1, 'and': 1, \"'kernel\": 1, 'in': 1, 'the': 1, 'name': 1, 'of': 1, 'an': 1, 'cultivar': 1, 'suggest': 1, 'that': 1, 'it': 1, 'originated': 1, 'a': 1, 'seedling': 1, 'Apples': 1, 'can': 1, 'also': 1, 'form': 1, 'bud': 1, 'sports': 1, 'mutations': 1, 'on': 1, 'single': 1, 'branch': 1, 'Some': 1, 'turn': 1, 'out': 1, 'to': 1, 'be': 1, 'improved': 1, 'strains': 1, 'parent': 1, 'differ': 1, 'sufficiently': 1, 'from': 1, 'tree': 1, 'considered': 1, '48': 1}, 'Fruit']\n",
      "---------------------\n",
      "---------------\n",
      "[{'Since': 1, 'the': 1, '1930s': 1, 'Excelsior': 1, 'Experiment': 1, 'Station': 1, 'at': 1, 'University': 1, 'of': 1, 'Minnesota': 1, 'has': 1, 'introduced': 1, 'a': 1, 'steady': 1, 'progression': 1, 'important': 1, 'apples': 1, 'that': 1, 'are': 1, 'widely': 1, 'grown': 1, 'both': 1, 'commercially': 1, 'and': 1, 'by': 1, 'local': 1, 'orchardists': 1, 'throughout': 1, 'Wisconsin': 1, 'Its': 1, 'most': 1, 'contributions': 1, 'have': 1, 'included': 1, \"'Haralson\": 1, 'which': 1, 'is': 1, 'cultivated': 1, 'apple': 1, 'in': 1, \"'Wealthy\": 1, \"'Honeygold\": 1, \"'Honeycrisp\": 1}, 'Fruit']\n",
      "---------------------\n",
      "---------------\n",
      "[{'One': 1, 'cultivar': 1, 'can': 1, 'be': 1, 'pollinated': 1, 'by': 1, 'a': 1, 'compatible': 1, 'from': 1, 'the': 1, 'same': 1, 'group': 1, 'or': 1, 'close': 1, 'A': 1, 'with': 1, 'B': 1, 'but': 1, 'not': 1, 'C': 1, 'D': 1, '50': 1}, 'Fruit']\n",
      "---------------------\n"
     ]
    }
   ],
   "source": [
    "#partition into training and test set\n",
    "\n",
    "\n",
    "\n",
    "#shuffling the data\n",
    "random.shuffle(fruit_data_array)\n",
    "\n",
    "random.shuffle(comp_data_array)\n",
    "\n",
    "# affect of shuffling\n",
    "while i<5 :\n",
    "    print('---------------')\n",
    "    print(fruit_data_array[i])\n",
    "    i+=1\n",
    "    print('---------------------')\n",
    "i=0\n",
    "\n",
    "\n",
    "# partition in training and testing\n",
    "\n",
    "training_set = fruit_data_array[:31]+comp_data_array[:31]\n",
    "test_set =fruit_data_array[31:63]+comp_data_array[31:63]\n",
    "\n",
    " "
   ]
  },
  {
   "cell_type": "code",
   "execution_count": 21,
   "metadata": {},
   "outputs": [
    {
     "name": "stdout",
     "output_type": "stream",
     "text": [
      "0.96875\n",
      "-0.039008603418895185\n"
     ]
    }
   ],
   "source": [
    "#build classifier and test\n",
    "\n",
    "classifier = nl.NaiveBayesClassifier.train(training_set)\n",
    "\n",
    "print(nl.classify.util.accuracy(classifier,test_set))\n",
    "\n",
    "print(nl.classify.util.log_likelihood(classifier,test_set))"
   ]
  },
  {
   "cell_type": "code",
   "execution_count": 22,
   "metadata": {},
   "outputs": [
    {
     "name": "stdout",
     "output_type": "stream",
     "text": [
      "Fruit\n"
     ]
    }
   ],
   "source": [
    "# classifiy new test instance\n",
    "print(classifier.classify(process_sentence('i like to eat apple')))\n"
   ]
  },
  {
   "cell_type": "code",
   "execution_count": 23,
   "metadata": {},
   "outputs": [
    {
     "name": "stdout",
     "output_type": "stream",
     "text": [
      "Company\n"
     ]
    }
   ],
   "source": [
    "print(classifier.classify(process_sentence('steave jobs was the founder of Apple')))"
   ]
  },
  {
   "cell_type": "code",
   "execution_count": 24,
   "metadata": {},
   "outputs": [
    {
     "name": "stdout",
     "output_type": "stream",
     "text": [
      "True Positive: 30 \t False Positive: 0\n",
      "False Negative: 2 \t True Negative: 32\n",
      "\n",
      "\n",
      "Confusion Matrix:\n",
      "\n",
      "_________________________________________________\n",
      "\t\t\tActual Output\n",
      "\n",
      "_________________________________________________\n",
      "\t\t 30 \t\t 0\n",
      "Test Output -------------------------------------\n",
      "\t\t 2 \t\t 32\n",
      "_________________________________________________\n",
      "\n",
      "\n",
      "Precision:[TP/(TP+FP)]\t 1.0\n",
      "Recall:[TP/(TP+FN)]\t 0.9375\n",
      "Accuaracy:[(TP+TN)/(TP+TN+FP+FN)]\t 0.96875\n"
     ]
    }
   ],
   "source": [
    "TP = 0 \n",
    "TN = 0\n",
    "FP = 0\n",
    "FN = 0\n",
    "for itr in range(len(test_set)):\n",
    "    #print(test_set[itr][0],'----',test_set[itr][1])\n",
    "    \n",
    "    out=classifier.classify(test_set[itr][0])\n",
    "    #print(out,'---',)\n",
    "    if out=='Company' and test_set[itr][1]=='Company':\n",
    "        TP = TP + 1\n",
    "    if out=='Fruit' and test_set[itr][1]=='Fruit':\n",
    "        TN = TN + 1\n",
    "    if out=='Company' and test_set[itr][1]=='Fruit':\n",
    "        FP = FP + 1\n",
    "    if out=='Fruit' and test_set[itr][1]=='Company':\n",
    "        FN = FN + 1\n",
    "    \n",
    "print('True Positive:',TP,'\\t False Positive:',FP)\n",
    "print('False Negative:',FN,'\\t True Negative:',TN)\n",
    "\n",
    "print('\\n')\n",
    "print('Confusion Matrix:\\n')\n",
    "print('_________________________________________________')\n",
    "print('\\t\\t\\tActual Output\\n')\n",
    "print('_________________________________________________')\n",
    "print('\\t\\t',TP,'\\t\\t',FP)\n",
    "print('Test Output -------------------------------------')\n",
    "print('\\t\\t',FN,'\\t\\t',TN)\n",
    "print('_________________________________________________')\n",
    "print('\\n')\n",
    "print('Precision:[TP/(TP+FP)]\\t',TP/(TP+FP))\n",
    "print('Recall:[TP/(TP+FN)]\\t',TP/(TP+FN))\n",
    "print('Accuaracy:[(TP+TN)/(TP+TN+FP+FN)]\\t',(TP+TN)/(TP+TN+FP+FN))"
   ]
  },
  {
   "cell_type": "code",
   "execution_count": null,
   "metadata": {
    "collapsed": true
   },
   "outputs": [],
   "source": []
  }
 ],
 "metadata": {
  "anaconda-cloud": {},
  "kernelspec": {
   "display_name": "Python 3",
   "language": "python",
   "name": "python3"
  },
  "language_info": {
   "codemirror_mode": {
    "name": "ipython",
    "version": 3
   },
   "file_extension": ".py",
   "mimetype": "text/x-python",
   "name": "python",
   "nbconvert_exporter": "python",
   "pygments_lexer": "ipython3",
   "version": "3.6.2"
  }
 },
 "nbformat": 4,
 "nbformat_minor": 1
}
