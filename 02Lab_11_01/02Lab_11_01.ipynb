{
 "cells": [
  {
   "cell_type": "markdown",
   "metadata": {},
   "source": [
    "# Statistics\n",
    "\n",
    "##### Statistics refers to the mathematics and techniques with which we understand data. "
   ]
  },
  {
   "cell_type": "code",
   "execution_count": 1,
   "metadata": {},
   "outputs": [
    {
     "data": {
      "image/png": "[encoded data removed]",
      "text/plain": [
       "<matplotlib.figure.Figure at 0x17611ef6390>"
      ]
     },
     "metadata": {},
     "output_type": "display_data"
    }
   ],
   "source": [
    "import numpy as np\n",
    "from matplotlib import pyplot as plt\n",
    "\n",
    "data = 10*np.random.random(1000)\n",
    "\n",
    "data = list(data.astype(int))\n",
    "\n",
    "x = range(0,10)\n",
    "\n",
    "freq = [data.count(k) for k in range(0,10)]\n",
    "freq\n",
    "index = np.arange(len(x))\n",
    "\n",
    "plt.bar(index, freq)\n",
    "plt.xlabel('X', fontsize=20)\n",
    "plt.ylabel('Y', fontsize=20)\n",
    "plt.xticks(index, x, fontsize=10, rotation=90)\n",
    "plt.show()"
   ]
  },
  {
   "cell_type": "markdown",
   "metadata": {},
   "source": [
    "# Centrality Measures"
   ]
  },
  {
   "cell_type": "markdown",
   "metadata": {},
   "source": [
    "# Mean & Median"
   ]
  },
  {
   "cell_type": "code",
   "execution_count": 3,
   "metadata": {},
   "outputs": [
    {
     "name": "stdout",
     "output_type": "stream",
     "text": [
      "4.9884984728\n",
      "2.22287858426\n"
     ]
    }
   ],
   "source": [
    "def findMean(data):\n",
    "    return np.sum(data)/len(data)\n",
    "\n",
    "def findMedian(data):\n",
    "\n",
    "    n = len(data)\n",
    "    np.sort(data)\n",
    "    midpoint = n // 2\n",
    "    if n % 2 == 1:\n",
    "        return data[midpoint]\n",
    "    else:\n",
    "        lo = midpoint - 1\n",
    "        hi = midpoint\n",
    "        return (data[lo] + data[hi]) / 2\n",
    "    \n",
    "data = 10*np.random.random(1000)\n",
    "print(findMean(data))\n",
    "print(findMedian(data))"
   ]
  },
  {
   "cell_type": "markdown",
   "metadata": {},
   "source": [
    "# Dispersion Measures"
   ]
  },
  {
   "cell_type": "markdown",
   "metadata": {},
   "source": [
    "# Variance"
   ]
  },
  {
   "cell_type": "code",
   "execution_count": 4,
   "metadata": {},
   "outputs": [
    {
     "data": {
      "text/plain": [
       "8.9990536028611885"
      ]
     },
     "execution_count": 4,
     "metadata": {},
     "output_type": "execute_result"
    }
   ],
   "source": [
    "def findVariance(data):\n",
    "    mean = findMean(data)\n",
    "    \n",
    "    diff = data-mean\n",
    "    \n",
    "    return np.sum(diff**2)/(len(data)-1)\n",
    "\n",
    "data = 10*np.random.random(10)\n",
    "findVariance(data)"
   ]
  },
  {
   "cell_type": "markdown",
   "metadata": {},
   "source": [
    "# Standard Deviation"
   ]
  },
  {
   "cell_type": "code",
   "execution_count": 5,
   "metadata": {},
   "outputs": [
    {
     "data": {
      "text/plain": [
       "2.1424667450951977"
      ]
     },
     "execution_count": 5,
     "metadata": {},
     "output_type": "execute_result"
    }
   ],
   "source": [
    "def findSD(data):\n",
    "    return np.sqrt(findVariance(data))\n",
    "\n",
    "data = 10*np.random.random(10)\n",
    "findSD(data)"
   ]
  },
  {
   "cell_type": "markdown",
   "metadata": {},
   "source": [
    "# Covariance\n",
    "\n",
    "##### Covariance, the paired analogue of variance. Whereas variance measures how a single variable deviates from its mean, covariance measures how two variables vary in tandem from their means."
   ]
  },
  {
   "cell_type": "code",
   "execution_count": 6,
   "metadata": {},
   "outputs": [
    {
     "data": {
      "image/png": "[encoded data removed]",
      "text/plain": [
       "<matplotlib.figure.Figure at 0x1761afdd4a8>"
      ]
     },
     "metadata": {},
     "output_type": "display_data"
    }
   ],
   "source": [
    "N = 50\n",
    "x = np.random.rand(N)\n",
    "y = x\n",
    "\n",
    "x = [1692,1978,1884,2151,2519]\n",
    "y = [68,102,110,112,154]\n",
    "plt.scatter(x, y, c='r')\n",
    "plt.show()"
   ]
  },
  {
   "cell_type": "code",
   "execution_count": 7,
   "metadata": {},
   "outputs": [
    {
     "data": {
      "text/plain": [
       "9107.2999999999993"
      ]
     },
     "execution_count": 7,
     "metadata": {},
     "output_type": "execute_result"
    }
   ],
   "source": [
    "def findCovariance(x,y):\n",
    "    meanx = np.mean(x)\n",
    "    meany = np.mean(y)\n",
    "    \n",
    "    diffx = x-meanx\n",
    "    diffy = y-meany\n",
    "    \n",
    "    return np.sum(np.dot(diffx,diffy))/(len(x)-1)\n",
    "\n",
    "findCovariance(x,y)"
   ]
  },
  {
   "cell_type": "markdown",
   "metadata": {},
   "source": [
    "# Correlation\n",
    "\n",
    "##### scaled version of covariance, which ranges from -1 to 1. Its not affected by the change in scale of values. \n"
   ]
  },
  {
   "cell_type": "code",
   "execution_count": 8,
   "metadata": {},
   "outputs": [
    {
     "data": {
      "text/plain": [
       "0.94957382552452774"
      ]
     },
     "execution_count": 8,
     "metadata": {},
     "output_type": "execute_result"
    }
   ],
   "source": [
    "def findCorrelation(x,y):\n",
    "    \n",
    "    return findCovariance(x,y)/(findSD(x)*findSD(y))\n",
    "\n",
    "\n",
    "findCorrelation(x,y)"
   ]
  },
  {
   "cell_type": "markdown",
   "metadata": {},
   "source": [
    "# Probability\n",
    "\n",
    "##### Suppose you want to flip a coin. Then you expect not to be able to say whether the next toss would  yield a heads or a tails. You might tell a friend that the odds of getting a heads is equal to to the odds of getting a tails, and that both are 1/2. This intuitive notion of odds is a probability."
   ]
  },
  {
   "cell_type": "markdown",
   "metadata": {},
   "source": [
    "# Random Variable\n",
    "##### A random variable is a variable whose possible values are numerical outcomes of a random phenomenon. There are two types of random variables, discrete and continuous.\n",
    "\n",
    "### Discrete Random Variable\n",
    "##### Can take only a countable number of values as outcome .    Example:-      Coin Toss: {H,T}       Throwing Dice: {1,2,3,4,5,6}dg\n",
    "\n",
    "### Continuous Random Variable\n",
    "##### A continuous random variable is one which takes an infinite number of possible values. Example:-    predicting the percentage of student in the exam."
   ]
  },
  {
   "cell_type": "markdown",
   "metadata": {},
   "source": [
    "# Distributions"
   ]
  },
  {
   "cell_type": "markdown",
   "metadata": {},
   "source": [
    "# Normal Distribution\n",
    "##### Defined by two parameters: mean & standard deviation.\n",
    "##### The density curve is symmetrical, centered about its mean, with its spread determined by its standard deviation.\n",
    "##### Also called Gaussian Distribution.\n",
    "$ f(x| \\mu, \\sigma^2) = \\frac{\\exp{-\\frac{{(x-\\mu)}^2}{2\\sigma^2}}}{\\sqrt{2 \\pi \\sigma^2}}  $"
   ]
  },
  {
   "cell_type": "code",
   "execution_count": 44,
   "metadata": {},
   "outputs": [
    {
     "data": {
      "text/plain": [
       "6.0758828498232861e-09"
      ]
     },
     "execution_count": 44,
     "metadata": {},
     "output_type": "execute_result"
    }
   ],
   "source": [
    "def normal_pdf(x, mu=0, sigma=1):\n",
    "    sqrt_two_pi = np.sqrt(2 * np.pi)\n",
    "    sigma_square = sigma**2\n",
    "    return np.exp(- (x-mu) ** 2/ (2 * sigma_square)) / (sqrt_two_pi * sigma)\n",
    "\n",
    "\n",
    "normal_pdf(6)\n"
   ]
  },
  {
   "cell_type": "code",
   "execution_count": 45,
   "metadata": {},
   "outputs": [
    {
     "name": "stdout",
     "output_type": "stream",
     "text": [
      "[-1.0, -0.9, -0.8, -0.7, -0.6, -0.5, -0.4, -0.3, -0.2, -0.1, 0.0, 0.1, 0.2, 0.3, 0.4, 0.5, 0.6, 0.7, 0.8, 0.9, 1.0]\n",
      "[0.24197072451914337, 0.26608524989875482, 0.28969155276148273, 0.31225393336676127, 0.33322460289179967, 0.35206532676429952, 0.36827014030332333, 0.38138781546052414, 0.39104269397545588, 0.39695254747701181, 0.3989422804014327, 0.39695254747701181, 0.39104269397545588, 0.38138781546052414, 0.36827014030332333, 0.35206532676429952, 0.33322460289179967, 0.31225393336676127, 0.28969155276148273, 0.26608524989875482, 0.24197072451914337]\n"
     ]
    },
    {
     "name": "stderr",
     "output_type": "stream",
     "text": [
      "C:\\Users\\sawan\\Anaconda3\\lib\\site-packages\\matplotlib\\axes\\_axes.py:545: UserWarning: No labelled objects found. Use label='...' kwarg on individual plots.\n",
      "  warnings.warn(\"No labelled objects found. \"\n"
     ]
    },
    {
     "data": {
      "image/png": "[encoded data removed]",
      "text/plain": [
       "<matplotlib.figure.Figure at 0x1761b52b438>"
      ]
     },
     "metadata": {},
     "output_type": "display_data"
    }
   ],
   "source": [
    "xs = [x / 10.0 for x in range(-10, 11)]\n",
    "print(xs)\n",
    "nm = [normal_pdf(x,sigma=1) for x in xs]\n",
    "print(nm)\n",
    "\n",
    "\n",
    "plt.plot(xs,nm,'-',marker='*')\n",
    "plt.legend()\n",
    "plt.title(\"Normal pdf\")\n",
    "plt.show()"
   ]
  },
  {
   "cell_type": "code",
   "execution_count": 46,
   "metadata": {},
   "outputs": [
    {
     "data": {
      "image/png": "[encoded data removed]",
      "text/plain": [
       "<matplotlib.figure.Figure at 0x1761b503da0>"
      ]
     },
     "metadata": {},
     "output_type": "display_data"
    }
   ],
   "source": [
    "xs = [x / 10.0 for x in range(-100, 100)]\n",
    "plt.plot(xs,[normal_pdf(x,sigma=1) for x in xs],'-',label='mu=0,sigma=1')\n",
    "plt.plot(xs,[normal_pdf(x,sigma=2) for x in xs],'--',label='mu=0,sigma=2')\n",
    "plt.plot(xs,[normal_pdf(x,sigma=0.5) for x in xs],':',label='mu=0,sigma=0.5')\n",
    "plt.plot(xs,[normal_pdf(x,mu=-1) for x in xs],'-.',label='mu=-1,sigma=1')\n",
    "plt.legend()\n",
    "plt.title(\"Various Normal pdfs\")\n",
    "plt.show()"
   ]
  },
  {
   "cell_type": "markdown",
   "metadata": {},
   "source": [
    "# Bernoulli Distribution\n",
    "\n",
    "##### The Bernoulli distribution is a discrete distribution having two possible outcomes labelled by n=0 and n=1 in which n=1 (\"success\") occurs with probability  p and n=0 (\"failure\") occurs with probability q=1-p, where 0 < p < 1\n",
    "##### It is the simplest Discrete distribution, which is building block for other distributions like: binomial, geometric etc."
   ]
  },
  {
   "cell_type": "code",
   "execution_count": 51,
   "metadata": {},
   "outputs": [
    {
     "data": {
      "text/plain": [
       "0"
      ]
     },
     "execution_count": 51,
     "metadata": {},
     "output_type": "execute_result"
    }
   ],
   "source": [
    "def bernoulli_trial(p):\n",
    "    d = np.random.random()\n",
    "    return 1 if d < p else 0\n",
    "\n",
    "bernoulli_trial(0.5)"
   ]
  },
  {
   "cell_type": "markdown",
   "metadata": {},
   "source": [
    "# Binomial Distribution"
   ]
  },
  {
   "cell_type": "code",
   "execution_count": 58,
   "metadata": {},
   "outputs": [
    {
     "data": {
      "text/plain": [
       "6"
      ]
     },
     "execution_count": 58,
     "metadata": {},
     "output_type": "execute_result"
    }
   ],
   "source": [
    "def binomial(n, p):\n",
    "    return sum(bernoulli_trial(p) for _ in range(n))\n",
    "\n",
    "binomial(10,0.5)\n"
   ]
  },
  {
   "cell_type": "code",
   "execution_count": 65,
   "metadata": {},
   "outputs": [
    {
     "data": {
      "image/png": "[encoded data removed]",
      "text/plain": [
       "<matplotlib.figure.Figure at 0x1761b6b7e48>"
      ]
     },
     "metadata": {},
     "output_type": "display_data"
    }
   ],
   "source": [
    "import math\n",
    "import collections\n",
    "def make_hist(p, n, num_points):\n",
    "    data = [binomial(n, p) for _ in range(num_points)]\n",
    "    histogram = collections.Counter(data)\n",
    "    plt.bar([x for x in histogram.keys()],[v for v in histogram.values()])\n",
    "    plt.title(\"Binomial Distribution\")\n",
    "    plt.show()\n",
    "\n",
    "make_hist(0.5,100,10000)"
   ]
  },
  {
   "cell_type": "code",
   "execution_count": null,
   "metadata": {
    "collapsed": true
   },
   "outputs": [],
   "source": [
    "import random\n",
    "def coin_trial():\n",
    "    heads = 0\n",
    "    for i in range(100):\n",
    "        if random.random() <= 0.5:\n",
    "            heads +=1\n",
    "    return heads\n",
    "\n",
    "def simulate(n):\n",
    "    trials = []\n",
    "    for i in range(n):\n",
    "        trials.append(coin_trial())\n",
    "    return trials\n",
    "   \n",
    "data = simulate(10000)\n",
    "freq = [data.count(k) for k in range(0,100)]"
   ]
  },
  {
   "cell_type": "code",
   "execution_count": null,
   "metadata": {
    "collapsed": true
   },
   "outputs": [],
   "source": [
    "year = range(0,100)\n",
    "\n",
    "index = np.arange(len(year))\n",
    "\n",
    "plt.bar(index, freq)\n",
    "plt.xlabel('Frequency', fontsize=20)\n",
    "plt.ylabel('# of Heads', fontsize=20)\n",
    "plt.xticks(index, year, fontsize=1, rotation=45)\n",
    "plt.title('',fontsize=30)\n",
    "plt.show()"
   ]
  },
  {
   "cell_type": "code",
   "execution_count": null,
   "metadata": {
    "collapsed": true
   },
   "outputs": [],
   "source": [
    "d1 = [1,2,3,4,5,6]\n",
    "d2 = [1,2,3,4,5,6]\n",
    "\n",
    "def throwDice1():\n",
    "    return d1[int(6*random.random())]\n",
    "\n",
    "def throwDice2():\n",
    "    return d2[int(6*random.random())]\n",
    "\n",
    "sum = []\n",
    "for i in range(0,10000):\n",
    "    sum.append(throwDice1()+throwDice2())\n",
    "    \n",
    "freq = [sum.count(k) for k in range(2,13)]\n",
    "\n",
    "year = range(2,13)\n",
    "\n",
    "index = np.arange(len(year))\n",
    "\n",
    "plt.bar(index, freq)\n",
    "plt.xlabel('Frequency', fontsize=20)\n",
    "plt.ylabel('# of Heads', fontsize=20)\n",
    "plt.xticks(index, year, fontsize=1, rotation=45)\n",
    "plt.title('',fontsize=30)\n",
    "plt.show()"
   ]
  },
  {
   "cell_type": "markdown",
   "metadata": {},
   "source": [
    "# Uniform Distribution"
   ]
  },
  {
   "cell_type": "code",
   "execution_count": 87,
   "metadata": {},
   "outputs": [],
   "source": [
    "def dist_uni(x):\n",
    "    \n",
    "    data = [1 if xd>20 and xd<50 else 0 for xd in x]\n",
    "    return data\n",
    "    \n",
    "x = range(101)\n",
    "y = dist_uni(x)"
   ]
  },
  {
   "cell_type": "code",
   "execution_count": 88,
   "metadata": {},
   "outputs": [
    {
     "data": {
      "image/png": "[encoded data removed]",
      "text/plain": [
       "<matplotlib.figure.Figure at 0x204226fee48>"
      ]
     },
     "metadata": {},
     "output_type": "display_data"
    }
   ],
   "source": [
    "\n",
    "\n",
    "xt = range(0,101)\n",
    "\n",
    "\n",
    "index = np.arange(len(xt))\n",
    "\n",
    "plt.bar(index,y)\n",
    "plt.xlabel('X', fontsize=20)\n",
    "plt.ylabel('Y', fontsize=20)\n",
    "plt.xticks(index, xt, fontsize=10, rotation=90)\n",
    "plt.show()"
   ]
  },
  {
   "cell_type": "code",
   "execution_count": 1,
   "metadata": {},
   "outputs": [
    {
     "data": {
      "image/png": "[encoded data removed]",
      "text/plain": [
       "<matplotlib.figure.Figure at 0x28eccfea588>"
      ]
     },
     "metadata": {},
     "output_type": "display_data"
    }
   ],
   "source": [
    "from matplotlib import pyplot as plt\n",
    "import numpy as np\n",
    "year = ['2001','2002','2003','2004','2005','2006','2007','2008','2009','2010']\n",
    "runs = [ 400,400,400,400,400,400,400,400,400,400]\n",
    "\n",
    "index = np.arange(len(year))\n",
    "\n",
    "plt.bar(index, runs)\n",
    "plt.xlabel('Year', fontsize=20)\n",
    "plt.ylabel('Runs scored', fontsize=20)\n",
    "plt.xticks(index, year, fontsize=10, rotation=90)\n",
    "plt.title('Number of runs scored by XYZ from 2001 to 2010',fontsize=30)\n",
    "plt.show()"
   ]
  },
  {
   "cell_type": "markdown",
   "metadata": {},
   "source": [
    "# Exercise"
   ]
  },
  {
   "cell_type": "markdown",
   "metadata": {},
   "source": [
    "## Load the 'test.arff' file. \n",
    "## Find the co-variance matrix of the dataset[remove the class-label before calculation.]\n",
    "## Plot the scatter plot for each feature(attribute) combination.\n",
    "## Calculate the correlation matrix of the dataset [remove the class-label before calculation.]\n",
    "## comment on the relationship between scatter plots and correlation values.\n"
   ]
  },
  {
   "cell_type": "code",
   "execution_count": null,
   "metadata": {
    "collapsed": true
   },
   "outputs": [],
   "source": []
  }
 ],
 "metadata": {
  "kernelspec": {
   "display_name": "Python 3",
   "language": "python",
   "name": "python3"
  },
  "language_info": {
   "codemirror_mode": {
    "name": "ipython",
    "version": 3
   },
   "file_extension": ".py",
   "mimetype": "text/x-python",
   "name": "python",
   "nbconvert_exporter": "python",
   "pygments_lexer": "ipython3",
   "version": "3.6.2"
  }
 },
 "nbformat": 4,
 "nbformat_minor": 2
}
