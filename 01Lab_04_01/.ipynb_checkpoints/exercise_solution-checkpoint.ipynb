{
 "cells": [
  {
   "cell_type": "markdown",
   "metadata": {},
   "source": [
    "## e1: A csv file is given to you (wine.csv)\n",
    "\n",
    "### find the following statistics for each column (except first column)\n",
    "### min, max, mean"
   ]
  },
  {
   "cell_type": "code",
   "execution_count": 10,
   "metadata": {},
   "outputs": [
    {
     "name": "stdout",
     "output_type": "stream",
     "text": [
      "Min:\n",
      "1      11.03\n",
      "2       0.74\n",
      "3       1.36\n",
      "4      10.60\n",
      "5      70.00\n",
      "6       0.98\n",
      "7       0.34\n",
      "8       0.13\n",
      "9       0.41\n",
      "10      1.28\n",
      "11      0.48\n",
      "12      1.27\n",
      "13    278.00\n",
      "dtype: float64\n",
      "Max:\n",
      "1       14.83\n",
      "2        5.80\n",
      "3        3.23\n",
      "4       30.00\n",
      "5      162.00\n",
      "6        3.88\n",
      "7        5.08\n",
      "8        0.66\n",
      "9        3.58\n",
      "10      13.00\n",
      "11       1.71\n",
      "12       4.00\n",
      "13    1680.00\n",
      "dtype: float64\n",
      "Mean:\n"
     ]
    },
    {
     "data": {
      "text/plain": [
       "1      13.000618\n",
       "2       2.336348\n",
       "3       2.366517\n",
       "4      19.494944\n",
       "5      99.741573\n",
       "6       2.295112\n",
       "7       2.029270\n",
       "8       0.361854\n",
       "9       1.590899\n",
       "10      5.058090\n",
       "11      0.957449\n",
       "12      2.611685\n",
       "13    746.893258\n",
       "dtype: float64"
      ]
     },
     "execution_count": 10,
     "metadata": {},
     "output_type": "execute_result"
    }
   ],
   "source": [
    "import pandas as pd\n",
    "\n",
    "df = pd.read_csv('wine.csv', header=None)\n",
    "df = df.drop([0], axis =1)\n",
    "print('Min:')\n",
    "print(df.min())\n",
    "print('Max:')\n",
    "print(df.max())\n",
    "print('Mean:')\n",
    "df.mean()"
   ]
  },
  {
   "cell_type": "markdown",
   "metadata": {},
   "source": [
    "## e2: Write a Numpy based menu driven program with following options:\n",
    "\n",
    "### option1. Enter list data\n",
    "### option2. Find Maximum in the data\n",
    "### option3. sort the data\n",
    "### option4. find the Median of the data"
   ]
  },
  {
   "cell_type": "code",
   "execution_count": 20,
   "metadata": {},
   "outputs": [
    {
     "name": "stdout",
     "output_type": "stream",
     "text": [
      "enter choice1\n",
      "enter # of elements your want to enter4\n",
      "2\n",
      "45\n",
      "23\n",
      "7\n",
      "enter choice4\n"
     ]
    },
    {
     "ename": "AttributeError",
     "evalue": "'numpy.ndarray' object has no attribute 'median'",
     "output_type": "error",
     "traceback": [
      "\u001b[1;31m---------------------------------------------------------------------------\u001b[0m",
      "\u001b[1;31mAttributeError\u001b[0m                            Traceback (most recent call last)",
      "\u001b[1;32m<ipython-input-20-faacaeee5d3e>\u001b[0m in \u001b[0;36m<module>\u001b[1;34m()\u001b[0m\n\u001b[0;32m     16\u001b[0m         \u001b[0mprint\u001b[0m\u001b[1;33m(\u001b[0m\u001b[0mnp\u001b[0m\u001b[1;33m.\u001b[0m\u001b[0marray\u001b[0m\u001b[1;33m(\u001b[0m\u001b[0mdata\u001b[0m\u001b[1;33m)\u001b[0m\u001b[1;33m.\u001b[0m\u001b[0msort\u001b[0m\u001b[1;33m(\u001b[0m\u001b[1;33m)\u001b[0m\u001b[1;33m)\u001b[0m\u001b[1;33m\u001b[0m\u001b[0m\n\u001b[0;32m     17\u001b[0m     \u001b[1;32melif\u001b[0m \u001b[0moption\u001b[0m \u001b[1;33m==\u001b[0m \u001b[1;34m'4'\u001b[0m\u001b[1;33m:\u001b[0m\u001b[1;33m\u001b[0m\u001b[0m\n\u001b[1;32m---> 18\u001b[1;33m         \u001b[0mprint\u001b[0m\u001b[1;33m(\u001b[0m\u001b[0mnp\u001b[0m\u001b[1;33m.\u001b[0m\u001b[0marray\u001b[0m\u001b[1;33m(\u001b[0m\u001b[0mdata\u001b[0m\u001b[1;33m)\u001b[0m\u001b[1;33m.\u001b[0m\u001b[0mmedian\u001b[0m\u001b[1;33m(\u001b[0m\u001b[1;33m)\u001b[0m\u001b[1;33m)\u001b[0m\u001b[1;33m\u001b[0m\u001b[0m\n\u001b[0m\u001b[0;32m     19\u001b[0m \u001b[1;33m\u001b[0m\u001b[0m\n\u001b[0;32m     20\u001b[0m     \u001b[1;32melse\u001b[0m\u001b[1;33m:\u001b[0m\u001b[1;33m\u001b[0m\u001b[0m\n",
      "\u001b[1;31mAttributeError\u001b[0m: 'numpy.ndarray' object has no attribute 'median'"
     ]
    }
   ],
   "source": [
    "import numpy as np\n",
    "data = []\n",
    "while(1):\n",
    "    option = input('enter choice')\n",
    "    if option == '1':\n",
    "        size = input('enter # of elements your want to enter')\n",
    "        i=0\n",
    "        while i<int(size):\n",
    "            data.append(int(input()))\n",
    "            i=i+1\n",
    "    \n",
    "    elif option == '2':\n",
    "        print(np.array(data).max())\n",
    "        \n",
    "    elif option == '3':\n",
    "        print(np.array(data).sort())\n",
    "    elif option == '4':\n",
    "        print(np.median(data))\n",
    "        \n",
    "    else:\n",
    "        break\n",
    "        np.m"
   ]
  },
  {
   "cell_type": "markdown",
   "metadata": {},
   "source": [
    "## e3: Year wise GDP data of three countries given below.\n",
    "### years = [1950, 1960, 1970, 1980, 1990, 2000, 2010]\n",
    "### country1_gdp = [300.2, 543.3, 1075.9, 2862.5, 5979.6, 10289.7, 14958.3]\n",
    "### country2_gdp = [30.2, 240.3, 675.9, 1262.5, 3579.6, 7089.7, 10958.3]\n",
    "### country3_gdp = [10.2, 27.3, 65.9, 362.5, 359.6, 789.7, 1058.3]\n",
    "### Plot the line graph which shows the year wise performance of each country."
   ]
  },
  {
   "cell_type": "markdown",
   "metadata": {},
   "source": [
    "## e4: You have iris.csv file. Perform following tasks.\n",
    "### 1.1 Load the iris dataset.\n",
    "### 2.2 Make pair of two-two features and plot the 2-D scatter plots.\n",
    "### 2.3 Make pair of three-three features and plot 3-D scatter plots.\n",
    "### 2.4 Try to infer information from the scatter plots. (what could be best set of features for classification of data)"
   ]
  },
  {
   "cell_type": "code",
   "execution_count": null,
   "metadata": {
    "collapsed": true
   },
   "outputs": [],
   "source": []
  }
 ],
 "metadata": {
  "kernelspec": {
   "display_name": "Python 3",
   "language": "python",
   "name": "python3"
  },
  "language_info": {
   "codemirror_mode": {
    "name": "ipython",
    "version": 3
   },
   "file_extension": ".py",
   "mimetype": "text/x-python",
   "name": "python",
   "nbconvert_exporter": "python",
   "pygments_lexer": "ipython3",
   "version": "3.6.2"
  }
 },
 "nbformat": 4,
 "nbformat_minor": 2
}
