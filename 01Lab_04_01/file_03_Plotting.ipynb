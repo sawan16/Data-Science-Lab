{
 "cells": [
  {
   "cell_type": "code",
   "execution_count": null,
   "metadata": {
    "collapsed": true
   },
   "outputs": [],
   "source": [
    "from matplotlib import pyplot as plt\n",
    "\n",
    "x = [19, 45, 56, 67, 78, 123, 234]\n",
    "y1 = [300.2, 543.3, 1075.9, 2862.5, 5979.6, 10289.7, 14958.3]\n",
    "y2 = [30.2, 240.3, 675.9, 1262.5, 3579.6, 7089.7, 10958.3]\n",
    "\n",
    "plt.plot(x, y1, color='blue', marker='*', linestyle='solid')\n",
    "plt.plot(x, y2, color='red', marker='o', linestyle='solid')\n",
    "\n",
    "plt.show()"
   ]
  },
  {
   "cell_type": "code",
   "execution_count": null,
   "metadata": {
    "collapsed": true
   },
   "outputs": [],
   "source": [
    "t = np.arange(0., 5., 0.2)\n",
    "\n",
    "# red dashes, blue squares and green triangles\n",
    "plt.plot(t, t, 'r--', t, t**2, 'bs', t, t**3, 'g^')\n",
    "plt.show()"
   ]
  },
  {
   "cell_type": "code",
   "execution_count": null,
   "metadata": {
    "collapsed": true
   },
   "outputs": [],
   "source": [
    "import numpy as np\n",
    " \n",
    "data = [1,2,15,3,6,17,8,16,8,3,10,12,16,12,9]\n",
    "\n",
    "nparray = np.array(data)\n",
    "\n",
    "print(nparray.data)\n",
    "print(\"Mean--\",np.mean(nparray))\n",
    "\n",
    "print(\"Median--\",np.median(nparray))\n",
    "\n",
    "print(\"Standard Div.  --\",np.std(nparray))\n",
    "\n",
    "print(\"Max--\",np.max(nparray))\n",
    "\n",
    "print(\"Min--\",np.min(nparray))\n",
    "\n",
    " \n",
    "plt.boxplot(nparray.data)\n",
    "plt.show()"
   ]
  },
  {
   "cell_type": "code",
   "execution_count": null,
   "metadata": {
    "collapsed": true
   },
   "outputs": [],
   "source": [
    "year = ['2001','2002','2003','2004','2005','2006','2007','2008','2009','2010']\n",
    "runs = [\n",
    "    941,\n",
    "    854,\n",
    "    1595,\n",
    "    625,\n",
    "    942,\n",
    "    509,\n",
    "    548,\n",
    "    749,\n",
    "    1052,\n",
    "    961\n",
    "]\n",
    "\n",
    "index = np.arange(len(year))\n",
    "\n",
    "plt.bar(index, runs)\n",
    "plt.xlabel('Year', fontsize=20)\n",
    "plt.ylabel('Runs scored', fontsize=20)\n",
    "plt.xticks(index, year, fontsize=10, rotation=90)\n",
    "plt.title('Number of runs scored by XYZ from 2001 to 2010',fontsize=30)\n",
    "plt.show()\n"
   ]
  },
  {
   "cell_type": "code",
   "execution_count": null,
   "metadata": {
    "collapsed": true
   },
   "outputs": [],
   "source": [
    "N = 50\n",
    "x = np.random.rand(N)\n",
    "y = np.random.rand(N)\n",
    "colors = np.random.rand(N)\n",
    "area = np.pi * (15 * np.random.rand(N))**2  # 0 to 15 point radii\n",
    "\n",
    "plt.scatter(x, y, s=area, c=colors, alpha=0.5)\n",
    "plt.show()"
   ]
  },
  {
   "cell_type": "code",
   "execution_count": null,
   "metadata": {
    "collapsed": true
   },
   "outputs": [],
   "source": [
    "labels = 'USA','India','Japan','China'\n",
    "sizes = [30, 15, 45, 10]\n",
    "\n",
    "fig1, ax1 = plt.subplots()\n",
    "ax1.pie(sizes,labels=labels)\n",
    "\n",
    "plt.show()"
   ]
  },
  {
   "cell_type": "code",
   "execution_count": 1,
   "metadata": {
    "collapsed": true
   },
   "outputs": [],
   "source": [
    "import plotly"
   ]
  },
  {
   "cell_type": "code",
   "execution_count": 6,
   "metadata": {},
   "outputs": [
    {
     "data": {
      "text/html": [
       "<iframe id=\"igraph\" scrolling=\"no\" style=\"border:none;\" seamless=\"seamless\" src=\"https://plot.ly/~sawanrai777/154.embed\" height=\"525px\" width=\"100%\"></iframe>"
      ],
      "text/plain": [
       "<plotly.tools.PlotlyDisplay object>"
      ]
     },
     "execution_count": 6,
     "metadata": {},
     "output_type": "execute_result"
    }
   ],
   "source": [
    "import plotly.plotly as py\n",
    "import plotly.graph_objs as go\n",
    "\n",
    "data = [go.Bar(\n",
    "            x=['PseudoGen', 'Simple GA', 'DE', 'PSO'],\n",
    "            y=[22.23, 23.93, 25.44, 24.72],\n",
    "            width = [0.4, 0.4, 0.4,0.4]\n",
    "    )]\n",
    "\n",
    "py.iplot(data, filename='Test Performance')"
   ]
  },
  {
   "cell_type": "code",
   "execution_count": null,
   "metadata": {
    "collapsed": true
   },
   "outputs": [],
   "source": []
  }
 ],
 "metadata": {
  "kernelspec": {
   "display_name": "Python 3",
   "language": "python",
   "name": "python3"
  },
  "language_info": {
   "codemirror_mode": {
    "name": "ipython",
    "version": 3
   },
   "file_extension": ".py",
   "mimetype": "text/x-python",
   "name": "python",
   "nbconvert_exporter": "python",
   "pygments_lexer": "ipython3",
   "version": "3.6.2"
  }
 },
 "nbformat": 4,
 "nbformat_minor": 2
}
